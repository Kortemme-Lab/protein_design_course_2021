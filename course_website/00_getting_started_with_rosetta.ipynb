{
 "cells": [
  {
   "cell_type": "markdown",
   "metadata": {},
   "source": [
    "# Basic protein modeling in Rosetta\n",
    "\n",
    "Rosetta is a software suite for working with models of proteins (or other molecules, like small molecule ligands and RNA).\n",
    "\n",
    "We can access all of Rosetta's functions using the `pyrosetta` python package."
   ]
  },
  {
   "cell_type": "code",
   "execution_count": 99,
   "metadata": {},
   "outputs": [
    {
     "name": "stdout",
     "output_type": "stream",
     "text": [
      "PyRosetta-4 2020 [Rosetta PyRosetta4.Release.python38.mac 2020.28+release.8ecab77aa50ac1301efe53641e07e09ac91fee3b 2020-07-07T16:41:06] retrieved from: http://www.pyrosetta.org\n",
      "(C) Copyright Rosetta Commons Member Institutions. Created in JHU by Sergey Lyskov and PyRosetta Team.\n",
      "\u001b[0mcore.init: \u001b[0mChecking for fconfig files in pwd and ./rosetta/flags\n",
      "\u001b[0mcore.init: \u001b[0mRosetta version: PyRosetta4.Release.python38.mac r260 2020.28+release.8ecab77aa50 8ecab77aa50ac1301efe53641e07e09ac91fee3b http://www.pyrosetta.org 2020-07-07T16:41:06\n",
      "\u001b[0mcore.init: \u001b[0mcommand: PyRosetta -ex1 -ex2aro -database /Users/cjmathy/.pyenv/versions/3.8.4/lib/python3.8/site-packages/pyrosetta-2020.28+release.8ecab77aa50-py3.8-macosx-10.15-x86_64.egg/pyrosetta/database\n",
      "\u001b[0mbasic.random.init_random_generator: \u001b[0m'RNG device' seed mode, using '/dev/urandom', seed=-334859078 seed_offset=0 real_seed=-334859078\n",
      "\u001b[0mbasic.random.init_random_generator: \u001b[0mRandomGenerator:init: Normal mode, seed=-334859078 RG_type=mt19937\n"
     ]
    }
   ],
   "source": [
    "from pyrosetta import *\n",
    "pyrosetta.init()"
   ]
  },
  {
   "cell_type": "markdown",
   "metadata": {},
   "source": [
    "## Storing structure information in Rosetta with the Pose class\n",
    "\n",
    "Protein structures are stored in text files that contain the sequence information and the positions of each atom in cartesian space. We'll work with the `PDB` format , but there are other useful ones that Rosetta can use, such as the newer `mmCIF` format which accommates much larger models.\n",
    "\n",
    "After reading in a `PDB` file, Rosetta stores the structure as an object of the `Pose` class. It contains the atoms in the structure and the chemical connectivity. Additionally, it can store energies for each residue, any constraints we want to apply to the structure, and annotations from the original PDB. To manipulate a structure with Rosetta, we make operations on the `Pose` object.\n",
    "\n",
    "We read in a `PDB` file with the function `pose_from_pdb` in the `pyrosetta` package. Rosetta will print out lots of information about what it is parsing from the `PDB` file, choices it makes to pick a final representation, and compute the score (in Rosetta Energy Units or REU, something like a ΔG) of the structure using a default score function.\n",
    "\n",
    "We will work with the PDB 1QYS, which is Top7, a novel fold of protein designed using Rosetta!"
   ]
  },
  {
   "cell_type": "code",
   "execution_count": 214,
   "metadata": {
    "tags": []
   },
   "outputs": [
    {
     "name": "stdout",
     "output_type": "stream",
     "text": [
      "\u001b[0mcore.import_pose.import_pose: \u001b[0mFile '1qys.pdb' automatically determined to be of type PDB\n",
      "\u001b[0mcore.io.pose_from_sfr.PoseFromSFRBuilder: \u001b[0mReading MSE as MET!\n",
      "\u001b[0mcore.io.pose_from_sfr.PoseFromSFRBuilder: \u001b[0mReading MSE as MET!\n",
      "\u001b[0mcore.io.pose_from_sfr.PoseFromSFRBuilder: \u001b[0mReading MSE as MET!\n",
      "\u001b[0mcore.io.pose_from_sfr.PoseFromSFRBuilder: \u001b[0mReading MSE as MET!\n",
      "\u001b[0mcore.io.pose_from_sfr.PoseFromSFRBuilder: \u001b[0mReading MSE as MET!\n",
      "\u001b[0mcore.io.pose_from_sfr.PoseFromSFRBuilder: \u001b[0mReading MSE as MET!\n",
      "\u001b[0mcore.io.pose_from_sfr.PoseFromSFRBuilder: \u001b[0mReading MSE as MET!\n",
      "\u001b[0mcore.io.pose_from_sfr.PoseFromSFRBuilder: \u001b[0mReading Selenium SE from MSE as SD from MET\n",
      "\u001b[0mcore.io.pose_from_sfr.PoseFromSFRBuilder: \u001b[0mReading MSE as MET!\n",
      "\u001b[0mcore.conformation.Conformation: \u001b[0m\u001b[1m[ WARNING ]\u001b[0m missing heavyatom:  CG  on residue LYS 13\n",
      "\u001b[0mcore.conformation.Conformation: \u001b[0m\u001b[1m[ WARNING ]\u001b[0m missing heavyatom:  CD  on residue LYS 13\n",
      "\u001b[0mcore.conformation.Conformation: \u001b[0m\u001b[1m[ WARNING ]\u001b[0m missing heavyatom:  CE  on residue LYS 13\n",
      "\u001b[0mcore.conformation.Conformation: \u001b[0m\u001b[1m[ WARNING ]\u001b[0m missing heavyatom:  NZ  on residue LYS 13\n",
      "\u001b[0mcore.conformation.Conformation: \u001b[0m\u001b[1m[ WARNING ]\u001b[0m missing heavyatom:  CG  on residue PHE 15\n",
      "\u001b[0mcore.conformation.Conformation: \u001b[0m\u001b[1m[ WARNING ]\u001b[0m missing heavyatom:  CD1 on residue PHE 15\n",
      "\u001b[0mcore.conformation.Conformation: \u001b[0m\u001b[1m[ WARNING ]\u001b[0m missing heavyatom:  CD2 on residue PHE 15\n",
      "\u001b[0mcore.conformation.Conformation: \u001b[0m\u001b[1m[ WARNING ]\u001b[0m missing heavyatom:  CE1 on residue PHE 15\n",
      "\u001b[0mcore.conformation.Conformation: \u001b[0m\u001b[1m[ WARNING ]\u001b[0m missing heavyatom:  CE2 on residue PHE 15\n",
      "\u001b[0mcore.conformation.Conformation: \u001b[0m\u001b[1m[ WARNING ]\u001b[0m missing heavyatom:  CZ  on residue PHE 15\n",
      "\u001b[0mcore.conformation.Conformation: \u001b[0m\u001b[1m[ WARNING ]\u001b[0m missing heavyatom:  OG  on residue SER 25\n",
      "\u001b[0mcore.conformation.Conformation: \u001b[0m\u001b[1m[ WARNING ]\u001b[0m missing heavyatom:  CG  on residue GLN 28\n",
      "\u001b[0mcore.conformation.Conformation: \u001b[0m\u001b[1m[ WARNING ]\u001b[0m missing heavyatom:  CD  on residue GLN 28\n",
      "\u001b[0mcore.conformation.Conformation: \u001b[0m\u001b[1m[ WARNING ]\u001b[0m missing heavyatom:  OE1 on residue GLN 28\n",
      "\u001b[0mcore.conformation.Conformation: \u001b[0m\u001b[1m[ WARNING ]\u001b[0m missing heavyatom:  NE2 on residue GLN 28\n",
      "\u001b[0mcore.conformation.Conformation: \u001b[0m\u001b[1m[ WARNING ]\u001b[0m missing heavyatom:  CG  on residue LYS 29\n",
      "\u001b[0mcore.conformation.Conformation: \u001b[0m\u001b[1m[ WARNING ]\u001b[0m missing heavyatom:  CD  on residue LYS 29\n",
      "\u001b[0mcore.conformation.Conformation: \u001b[0m\u001b[1m[ WARNING ]\u001b[0m missing heavyatom:  CE  on residue LYS 29\n",
      "\u001b[0mcore.conformation.Conformation: \u001b[0m\u001b[1m[ WARNING ]\u001b[0m missing heavyatom:  NZ  on residue LYS 29\n",
      "\u001b[0mcore.conformation.Conformation: \u001b[0m\u001b[1m[ WARNING ]\u001b[0m missing heavyatom:  CG  on residue ASN 32\n",
      "\u001b[0mcore.conformation.Conformation: \u001b[0m\u001b[1m[ WARNING ]\u001b[0m missing heavyatom:  OD1 on residue ASN 32\n",
      "\u001b[0mcore.conformation.Conformation: \u001b[0m\u001b[1m[ WARNING ]\u001b[0m missing heavyatom:  ND2 on residue ASN 32\n",
      "\u001b[0mcore.conformation.Conformation: \u001b[0m\u001b[1m[ WARNING ]\u001b[0m missing heavyatom:  CG  on residue LEU 34\n",
      "\u001b[0mcore.conformation.Conformation: \u001b[0m\u001b[1m[ WARNING ]\u001b[0m missing heavyatom:  CD1 on residue LEU 34\n",
      "\u001b[0mcore.conformation.Conformation: \u001b[0m\u001b[1m[ WARNING ]\u001b[0m missing heavyatom:  CD2 on residue LEU 34\n",
      "\u001b[0mcore.conformation.Conformation: \u001b[0m\u001b[1m[ WARNING ]\u001b[0m missing heavyatom:  CG  on residue LYS 44\n",
      "\u001b[0mcore.conformation.Conformation: \u001b[0m\u001b[1m[ WARNING ]\u001b[0m missing heavyatom:  CD  on residue LYS 44\n",
      "\u001b[0mcore.conformation.Conformation: \u001b[0m\u001b[1m[ WARNING ]\u001b[0m missing heavyatom:  CE  on residue LYS 44\n",
      "\u001b[0mcore.conformation.Conformation: \u001b[0m\u001b[1m[ WARNING ]\u001b[0m missing heavyatom:  NZ  on residue LYS 44\n",
      "\u001b[0mcore.conformation.Conformation: \u001b[0m\u001b[1m[ WARNING ]\u001b[0m missing heavyatom:  CG  on residue ARG 45\n",
      "\u001b[0mcore.conformation.Conformation: \u001b[0m\u001b[1m[ WARNING ]\u001b[0m missing heavyatom:  CD  on residue ARG 45\n",
      "\u001b[0mcore.conformation.Conformation: \u001b[0m\u001b[1m[ WARNING ]\u001b[0m missing heavyatom:  NE  on residue ARG 45\n",
      "\u001b[0mcore.conformation.Conformation: \u001b[0m\u001b[1m[ WARNING ]\u001b[0m missing heavyatom:  CZ  on residue ARG 45\n",
      "\u001b[0mcore.conformation.Conformation: \u001b[0m\u001b[1m[ WARNING ]\u001b[0m missing heavyatom:  NH1 on residue ARG 45\n",
      "\u001b[0mcore.conformation.Conformation: \u001b[0m\u001b[1m[ WARNING ]\u001b[0m missing heavyatom:  NH2 on residue ARG 45\n",
      "\u001b[0mcore.conformation.Conformation: \u001b[0m\u001b[1m[ WARNING ]\u001b[0m missing heavyatom:  CG  on residue ARG 53\n",
      "\u001b[0mcore.conformation.Conformation: \u001b[0m\u001b[1m[ WARNING ]\u001b[0m missing heavyatom:  CD  on residue ARG 53\n",
      "\u001b[0mcore.conformation.Conformation: \u001b[0m\u001b[1m[ WARNING ]\u001b[0m missing heavyatom:  NE  on residue ARG 53\n",
      "\u001b[0mcore.conformation.Conformation: \u001b[0m\u001b[1m[ WARNING ]\u001b[0m missing heavyatom:  CZ  on residue ARG 53\n",
      "\u001b[0mcore.conformation.Conformation: \u001b[0m\u001b[1m[ WARNING ]\u001b[0m missing heavyatom:  NH1 on residue ARG 53\n",
      "\u001b[0mcore.conformation.Conformation: \u001b[0m\u001b[1m[ WARNING ]\u001b[0m missing heavyatom:  NH2 on residue ARG 53\n",
      "\u001b[0mcore.conformation.Conformation: \u001b[0m\u001b[1m[ WARNING ]\u001b[0m missing heavyatom:  CG  on residue LYS 60\n",
      "\u001b[0mcore.conformation.Conformation: \u001b[0m\u001b[1m[ WARNING ]\u001b[0m missing heavyatom:  CD  on residue LYS 60\n",
      "\u001b[0mcore.conformation.Conformation: \u001b[0m\u001b[1m[ WARNING ]\u001b[0m missing heavyatom:  CE  on residue LYS 60\n",
      "\u001b[0mcore.conformation.Conformation: \u001b[0m\u001b[1m[ WARNING ]\u001b[0m missing heavyatom:  NZ  on residue LYS 60\n",
      "\u001b[0mcore.conformation.Conformation: \u001b[0m\u001b[1m[ WARNING ]\u001b[0m missing heavyatom:  CG  on residue GLU 71\n",
      "\u001b[0mcore.conformation.Conformation: \u001b[0m\u001b[1m[ WARNING ]\u001b[0m missing heavyatom:  CD  on residue GLU 71\n",
      "\u001b[0mcore.conformation.Conformation: \u001b[0m\u001b[1m[ WARNING ]\u001b[0m missing heavyatom:  OE1 on residue GLU 71\n",
      "\u001b[0mcore.conformation.Conformation: \u001b[0m\u001b[1m[ WARNING ]\u001b[0m missing heavyatom:  OE2 on residue GLU 71\n",
      "\u001b[0mcore.conformation.Conformation: \u001b[0m\u001b[1m[ WARNING ]\u001b[0m missing heavyatom:  OXT on residue LEU:CtermProteinFull 92\n",
      "\u001b[0mcore.pack.pack_missing_sidechains: \u001b[0mpacking residue number 13 because of missing atom number 6 atom name  CG\n",
      "\u001b[0mcore.pack.pack_missing_sidechains: \u001b[0mpacking residue number 15 because of missing atom number 6 atom name  CG\n",
      "\u001b[0mcore.pack.pack_missing_sidechains: \u001b[0mpacking residue number 25 because of missing atom number 6 atom name  OG\n",
      "\u001b[0mcore.pack.pack_missing_sidechains: \u001b[0mpacking residue number 28 because of missing atom number 6 atom name  CG\n",
      "\u001b[0mcore.pack.pack_missing_sidechains: \u001b[0mpacking residue number 29 because of missing atom number 6 atom name  CG\n",
      "\u001b[0mcore.pack.pack_missing_sidechains: \u001b[0mpacking residue number 32 because of missing atom number 6 atom name  CG\n",
      "\u001b[0mcore.pack.pack_missing_sidechains: \u001b[0mpacking residue number 34 because of missing atom number 6 atom name  CG\n",
      "\u001b[0mcore.pack.pack_missing_sidechains: \u001b[0mpacking residue number 44 because of missing atom number 6 atom name  CG\n",
      "\u001b[0mcore.pack.pack_missing_sidechains: \u001b[0mpacking residue number 45 because of missing atom number 6 atom name  CG\n",
      "\u001b[0mcore.pack.pack_missing_sidechains: \u001b[0mpacking residue number 53 because of missing atom number 6 atom name  CG\n",
      "\u001b[0mcore.pack.pack_missing_sidechains: \u001b[0mpacking residue number 60 because of missing atom number 6 atom name  CG\n",
      "\u001b[0mcore.pack.pack_missing_sidechains: \u001b[0mpacking residue number 71 because of missing atom number 6 atom name  CG\n",
      "\u001b[0mcore.pack.task: \u001b[0mPacker task: initialize from command line()\n",
      "\u001b[0mcore.scoring.ScoreFunctionFactory: \u001b[0mSCOREFUNCTION: \u001b[32mref2015\u001b[0m\n",
      "\u001b[0mcore.pack.pack_rotamers: \u001b[0mbuilt 185 rotamers at 12 positions.\n",
      "\u001b[0mcore.pack.interaction_graph.interaction_graph_factory: \u001b[0mInstantiating DensePDInteractionGraph\n"
     ]
    }
   ],
   "source": [
    "pose = pyrosetta.pose_from_pdb('1qys.pdb')"
   ]
  },
  {
   "cell_type": "markdown",
   "metadata": {},
   "source": [
    "We can get lots of useful information from this `Pose` object, including:\n",
    "\n",
    "- The structure's sequence\n",
    "- The number of chains\n",
    "- The residue numbering (when residues are missing from a structure, the `Pose` numbering will not match the `PDB` numbering, as the `Pose` numbering always starts at 1.\n",
    "- The atomic position (X,Y,Z) coordinates of any atom, such as the alpha-carbons of two residues (and therefore the distance between them). The units are angstroms.\n",
    "- The energy of individual residues\n",
    "- The energy of the structure"
   ]
  },
  {
   "cell_type": "code",
   "execution_count": 101,
   "metadata": {},
   "outputs": [
    {
     "data": {
      "text/plain": [
       "'DIQVQVNIDDNGKNFDYTYTVTTESELQKVLNELMDYIKKQGAKRVRISITARTKKEAEKFAAILIKVFAELGYNDINVTFDGDTVTVEGQL'"
      ]
     },
     "execution_count": 101,
     "metadata": {},
     "output_type": "execute_result"
    }
   ],
   "source": [
    "# sequence\n",
    "pose.sequence()"
   ]
  },
  {
   "cell_type": "code",
   "execution_count": 102,
   "metadata": {},
   "outputs": [
    {
     "name": "stdout",
     "output_type": "stream",
     "text": [
      "PDB file name: 1qys.pdb\n",
      " Pose Range  Chain    PDB Range  |   #Residues         #Atoms\n",
      "\n",
      "0001 -- 0092    A 0003  -- 0094  |   0092 residues;    01477 atoms\n",
      "                           TOTAL |   0092 residues;    01477 atoms\n",
      "\n"
     ]
    }
   ],
   "source": [
    "# chain and numbering info\n",
    "print(pose.pdb_info())"
   ]
  },
  {
   "cell_type": "code",
   "execution_count": 103,
   "metadata": {},
   "outputs": [
    {
     "name": "stdout",
     "output_type": "stream",
     "text": [
      "     -3.061000000000000       18.22800000000000       17.12200000000000\n",
      "    -0.8230000000000000       15.56200000000000       15.56800000000000\n"
     ]
    }
   ],
   "source": [
    "# CA positions and distance\n",
    "CA_1 = pose.residue(1).xyz(\"CA\")\n",
    "CA_2 = pose.residue(2).xyz(\"CA\")\n",
    "\n",
    "print(CA_1)\n",
    "print(CA_2)"
   ]
  },
  {
   "cell_type": "code",
   "execution_count": 104,
   "metadata": {},
   "outputs": [
    {
     "name": "stdout",
     "output_type": "stream",
     "text": [
      "16.55723980619958\n"
     ]
    }
   ],
   "source": [
    "# Distance between the two residues, using the function norm()\n",
    "print((atom1 - atom2).norm())"
   ]
  },
  {
   "cell_type": "code",
   "execution_count": 105,
   "metadata": {},
   "outputs": [
    {
     "name": "stdout",
     "output_type": "stream",
     "text": [
      "\u001b[0mcore.scoring.Energies: \u001b[0mE               fa_atr        fa_rep        fa_sol  fa_intra_repfa_intra_sol_x   lk_ball_wtd       fa_elec     pro_close   hbond_sr_bb   hbond_lr_bb   hbond_bb_sc      hbond_sc     dslf_fa13         omega        fa_dun       p_aa_pp yhh_planarity           ref   rama_prepro\n",
      "\u001b[0mcore.scoring.Energies: \u001b[0mE(i)   5         -5.98          0.87          6.24          3.71          0.49          0.58         -2.63          0.00          0.00          0.00          0.00         -0.60          0.00          0.09         21.42          0.46          0.00         -1.45          0.09\n"
     ]
    }
   ],
   "source": [
    "# the energy terms for the 5th residue\n",
    "pose.energies().show(5)"
   ]
  },
  {
   "cell_type": "code",
   "execution_count": 106,
   "metadata": {},
   "outputs": [
    {
     "name": "stdout",
     "output_type": "stream",
     "text": [
      "\u001b[0mcore.scoring.ScoreFunctionFactory: \u001b[0mSCOREFUNCTION: \u001b[32mref2015\u001b[0m\n"
     ]
    },
    {
     "data": {
      "text/plain": [
       "206.2147741464653"
      ]
     },
     "execution_count": 106,
     "metadata": {},
     "output_type": "execute_result"
    }
   ],
   "source": [
    "# Structure energy\n",
    "scorefxn = get_fa_scorefxn()  # a score function is just the equation that relates\n",
    "scorefxn(pose)"
   ]
  },
  {
   "cell_type": "markdown",
   "metadata": {},
   "source": [
    "A good resource for seeing everything the `Pose` object has to offer is Figure 19.2 in the following paper describing Rosetta: \n",
    "    \n",
    "- Leaver-Fay, A., Tyka, M., Lewis, S. M., Lange, O. F., Thompson, J., Jacak, R., ... & Bradley, P. (2011). ROSETTA3: an object-oriented software suite for the simulation and design of macromolecules. Methods in enzymology, 487, 545-574.\n",
    "    https://www.sciencedirect.com/science/article/pii/B9780123812704000196"
   ]
  },
  {
   "cell_type": "markdown",
   "metadata": {},
   "source": [
    "## Visualizing your pose with PyMOL\n",
    "\n",
    "While Rosetta doesn't have its own GUI for viewing protein models, it is set up for easy linking to PyMOL. You should have received the script `PyMOL-RosettaServer.python3.py`. To start a connection between PyRosetta and PyMOL, start PyMOL and run `run ~/PyRosetta/PyMOL-RosettaServer.python3.py`. If the link is active, you should see \"PyMOL <---> PyRosetta link started!\" in your PyMOL console.\n",
    "    \n",
    "NOTE: You can also make a file `.pymolrc` in your home directory and put that line of code there for it to run automatically when you initialize PyMOL. \n",
    "    \n",
    "Once the link is set up, we can use a new class, the `PyMOLMover` to send the pose to PyMOL. A `Mover` is a class of Rosetta objects that operate on / alter `Pose` objects."
   ]
  },
  {
   "cell_type": "code",
   "execution_count": 144,
   "metadata": {},
   "outputs": [],
   "source": [
    "pmm = PyMOLMover()\n",
    "pmm.apply(pose)"
   ]
  },
  {
   "cell_type": "markdown",
   "metadata": {},
   "source": [
    "You should now see Top7 in your PyMOL window."
   ]
  },
  {
   "cell_type": "markdown",
   "metadata": {},
   "source": [
    "Let's color each residue according to an energy term, `fa_sol`. This term accounts for the energetic penalty or favorability of a given side chain's solvent accessibility in the structure."
   ]
  },
  {
   "cell_type": "code",
   "execution_count": 145,
   "metadata": {},
   "outputs": [],
   "source": [
    "pmm.label_energy(pose, 'fa_sol')"
   ]
  },
  {
   "cell_type": "markdown",
   "metadata": {},
   "source": [
    "You should see a striped pattern along the beta sheet. This is expected, as residues whose side chains point inwards towards the core are more blue (more negative/energetically favorable), while residues with solvent-exposed side chains are more red, as they pay a solvation penalty.\n",
    "\n",
    "This favorable tertiary structure pattern of residues - a hydrophobic core - was incorporated intentionally to enable folding into a stable protein.\n",
    "\n",
    "If you'd like to examine the way the side chains fit together within the core, you can see them by typing the following command into the PyMOL console: `show sticks, not (name c+n+o) and not hydro`"
   ]
  },
  {
   "cell_type": "markdown",
   "metadata": {},
   "source": [
    "## Relaxing a structure\n",
    "\n",
    "You may have noticed that when we scored the pose above, the energy was positive (~200 REU), which means Rosetta thinks our pose is pretty unfavorable. Often, the bond lengths and angles of structures from the PDB are not ideal according to Rosetta. This is for a variety of reasons, both physical (crystal contacts introduce a bias, for example) and algorithmic (the refinement forcefields used to solve crystal structures and the score function in Rosetta each have their distinct biases). Typically when manipulating or analyzing a new PDB, we first optimize the structure for the Rosetta score function using a protocol known as `Relax`.\n",
    "\n",
    "Relaxing a structure consists of trying many slight perturbations to the backbone bonds (\"minimization\") as well as trying other sidechain rotamers (\"repacking\"). We will learn more about these protocols later, but for now let's just run the `Relax` code and see how it changes our structure.\n",
    "\n",
    "This run should take about 1 minute, and will spit out a lot of log information, as it iteratively. perturbs and re-scores the structure."
   ]
  },
  {
   "cell_type": "code",
   "execution_count": 142,
   "metadata": {
    "collapsed": true,
    "jupyter": {
     "outputs_hidden": true
    },
    "tags": []
   },
   "outputs": [
    {
     "name": "stdout",
     "output_type": "stream",
     "text": [
      "\u001b[0mcore.scoring.ScoreFunctionFactory: \u001b[0mSCOREFUNCTION: \u001b[32mref2015\u001b[0m\n",
      "\u001b[0mprotocols.relax.FastRelax: \u001b[0mCMD: repeat  206.215  0  0  0.55\n",
      "\u001b[0mprotocols.relax.FastRelax: \u001b[0mCMD: coord_cst_weight  206.215  0  0  0.55\n",
      "\u001b[0mprotocols.relax.FastRelax: \u001b[0mCMD: scale:fa_rep  7.09245  0  0  0.022\n",
      "\u001b[0mcore.pack.task: \u001b[0mPacker task: initialize from command line()\n",
      "\u001b[0mcore.pack.pack_rotamers: \u001b[0mbuilt 2042 rotamers at 92 positions.\n",
      "\u001b[0mcore.pack.interaction_graph.interaction_graph_factory: \u001b[0mInstantiating DensePDInteractionGraph\n",
      "\u001b[0mprotocols.relax.FastRelax: \u001b[0mCMD: repack  -225.455  0  0  0.022\n",
      "\u001b[0mprotocols.relax.FastRelax: \u001b[0mCMD: scale:fa_rep  -218.369  0  0  0.02805\n",
      "\u001b[0mprotocols.relax.FastRelax: \u001b[0mCMD: min  -410.541  0.971168  0.971168  0.02805\n",
      "\u001b[0mprotocols.relax.FastRelax: \u001b[0mCMD: coord_cst_weight  -410.541  0.971168  0.971168  0.02805\n",
      "\u001b[0mprotocols.relax.FastRelax: \u001b[0mCMD: scale:fa_rep  -218.021  0.971168  0.971168  0.14575\n",
      "\u001b[0mcore.pack.task: \u001b[0mPacker task: initialize from command line()\n",
      "\u001b[0mcore.pack.pack_rotamers: \u001b[0mbuilt 2413 rotamers at 92 positions.\n",
      "\u001b[0mcore.pack.interaction_graph.interaction_graph_factory: \u001b[0mInstantiating DensePDInteractionGraph\n",
      "\u001b[0mprotocols.relax.FastRelax: \u001b[0mCMD: repack  -246.91  0.971168  0.971168  0.14575\n",
      "\u001b[0mprotocols.relax.FastRelax: \u001b[0mCMD: scale:fa_rep  -235.568  0.971168  0.971168  0.154\n",
      "\u001b[0mprotocols.relax.FastRelax: \u001b[0mCMD: min  -349.553  0.768629  0.768629  0.154\n",
      "\u001b[0mprotocols.relax.FastRelax: \u001b[0mCMD: coord_cst_weight  -349.553  0.768629  0.768629  0.154\n",
      "\u001b[0mprotocols.relax.FastRelax: \u001b[0mCMD: scale:fa_rep  -300.015  0.768629  0.768629  0.30745\n",
      "\u001b[0mcore.pack.task: \u001b[0mPacker task: initialize from command line()\n",
      "\u001b[0mcore.pack.pack_rotamers: \u001b[0mbuilt 1974 rotamers at 92 positions.\n",
      "\u001b[0mcore.pack.interaction_graph.interaction_graph_factory: \u001b[0mInstantiating DensePDInteractionGraph\n",
      "\u001b[0mprotocols.relax.FastRelax: \u001b[0mCMD: repack  -301.066  0.768629  0.768629  0.30745\n",
      "\u001b[0mprotocols.relax.FastRelax: \u001b[0mCMD: scale:fa_rep  -297.305  0.768629  0.768629  0.31955\n",
      "\u001b[0mprotocols.relax.FastRelax: \u001b[0mCMD: min  -310.724  0.683306  0.683306  0.31955\n",
      "\u001b[0mprotocols.relax.FastRelax: \u001b[0mCMD: coord_cst_weight  -310.724  0.683306  0.683306  0.31955\n",
      "\u001b[0mprotocols.relax.FastRelax: \u001b[0mCMD: scale:fa_rep  -264.845  0.683306  0.683306  0.55\n",
      "\u001b[0mcore.pack.task: \u001b[0mPacker task: initialize from command line()\n",
      "\u001b[0mcore.pack.pack_rotamers: \u001b[0mbuilt 1993 rotamers at 92 positions.\n",
      "\u001b[0mcore.pack.interaction_graph.interaction_graph_factory: \u001b[0mInstantiating DensePDInteractionGraph\n",
      "\u001b[0mprotocols.relax.FastRelax: \u001b[0mCMD: repack  -265.067  0.683306  0.683306  0.55\n",
      "\u001b[0mprotocols.relax.FastRelax: \u001b[0mCMD: min  -300.489  0.766356  0.766356  0.55\n",
      "\u001b[0mprotocols.relax.FastRelax: \u001b[0mMRP: 0  -300.489  -300.489  0.766356  0.766356\n",
      "\u001b[0mprotocols.relax.FastRelax: \u001b[0mCMD: accept_to_best  -300.489  0.766356  0.766356  0.55\n",
      "\u001b[0mprotocols.relax.FastRelax: \u001b[0mCMD: endrepeat  -300.489  0.766356  0.766356  0.55\n",
      "\u001b[0mprotocols.relax.FastRelax: \u001b[0mCMD: coord_cst_weight  -300.489  0.766356  0.766356  0.55\n",
      "\u001b[0mprotocols.relax.FastRelax: \u001b[0mCMD: scale:fa_rep  -363.934  0.766356  0.766356  0.022\n",
      "\u001b[0mcore.pack.task: \u001b[0mPacker task: initialize from command line()\n",
      "\u001b[0mcore.pack.pack_rotamers: \u001b[0mbuilt 2232 rotamers at 92 positions.\n",
      "\u001b[0mcore.pack.interaction_graph.interaction_graph_factory: \u001b[0mInstantiating DensePDInteractionGraph\n",
      "\u001b[0mprotocols.relax.FastRelax: \u001b[0mCMD: repack  -371.421  0.766356  0.766356  0.022\n",
      "\u001b[0mprotocols.relax.FastRelax: \u001b[0mCMD: scale:fa_rep  -369.623  0.766356  0.766356  0.02805\n",
      "\u001b[0mprotocols.relax.FastRelax: \u001b[0mCMD: min  -428.239  0.989538  0.989538  0.02805\n",
      "\u001b[0mprotocols.relax.FastRelax: \u001b[0mCMD: coord_cst_weight  -428.239  0.989538  0.989538  0.02805\n",
      "\u001b[0mprotocols.relax.FastRelax: \u001b[0mCMD: scale:fa_rep  -281.686  0.989538  0.989538  0.14575\n",
      "\u001b[0mcore.pack.task: \u001b[0mPacker task: initialize from command line()\n",
      "\u001b[0mcore.pack.pack_rotamers: \u001b[0mbuilt 2328 rotamers at 92 positions.\n",
      "\u001b[0mcore.pack.interaction_graph.interaction_graph_factory: \u001b[0mInstantiating DensePDInteractionGraph\n",
      "\u001b[0mprotocols.relax.FastRelax: \u001b[0mCMD: repack  -305.685  0.989538  0.989538  0.14575\n",
      "\u001b[0mprotocols.relax.FastRelax: \u001b[0mCMD: scale:fa_rep  -297.867  0.989538  0.989538  0.154\n",
      "\u001b[0mprotocols.relax.FastRelax: \u001b[0mCMD: min  -365.744  0.864521  0.864521  0.154\n",
      "\u001b[0mprotocols.relax.FastRelax: \u001b[0mCMD: coord_cst_weight  -365.744  0.864521  0.864521  0.154\n",
      "\u001b[0mprotocols.relax.FastRelax: \u001b[0mCMD: scale:fa_rep  -318.194  0.864521  0.864521  0.30745\n",
      "\u001b[0mcore.pack.task: \u001b[0mPacker task: initialize from command line()\n",
      "\u001b[0mcore.pack.pack_rotamers: \u001b[0mbuilt 2083 rotamers at 92 positions.\n",
      "\u001b[0mcore.pack.interaction_graph.interaction_graph_factory: \u001b[0mInstantiating DensePDInteractionGraph\n",
      "\u001b[0mprotocols.relax.FastRelax: \u001b[0mCMD: repack  -319.679  0.864521  0.864521  0.30745\n",
      "\u001b[0mprotocols.relax.FastRelax: \u001b[0mCMD: scale:fa_rep  -316.088  0.864521  0.864521  0.31955\n",
      "\u001b[0mprotocols.relax.FastRelax: \u001b[0mCMD: min  -328.876  0.800308  0.800308  0.31955\n",
      "\u001b[0mprotocols.relax.FastRelax: \u001b[0mCMD: coord_cst_weight  -328.876  0.800308  0.800308  0.31955\n",
      "\u001b[0mprotocols.relax.FastRelax: \u001b[0mCMD: scale:fa_rep  -286.356  0.800308  0.800308  0.55\n",
      "\u001b[0mcore.pack.task: \u001b[0mPacker task: initialize from command line()\n",
      "\u001b[0mcore.pack.pack_rotamers: \u001b[0mbuilt 2025 rotamers at 92 positions.\n",
      "\u001b[0mcore.pack.interaction_graph.interaction_graph_factory: \u001b[0mInstantiating DensePDInteractionGraph\n",
      "\u001b[0mprotocols.relax.FastRelax: \u001b[0mCMD: repack  -286.386  0.800308  0.800308  0.55\n",
      "\u001b[0mprotocols.relax.FastRelax: \u001b[0mCMD: min  -303.47  0.782197  0.782197  0.55\n",
      "\u001b[0mprotocols.relax.FastRelax: \u001b[0mMRP: 1  -303.47  -303.47  0.782197  0.782197\n",
      "\u001b[0mprotocols.relax.FastRelax: \u001b[0mCMD: accept_to_best  -303.47  0.782197  0.782197  0.55\n",
      "\u001b[0mprotocols.relax.FastRelax: \u001b[0mCMD: endrepeat  -303.47  0.782197  0.782197  0.55\n",
      "\u001b[0mprotocols.relax.FastRelax: \u001b[0mCMD: coord_cst_weight  -303.47  0.782197  0.782197  0.55\n",
      "\u001b[0mprotocols.relax.FastRelax: \u001b[0mCMD: scale:fa_rep  -366.672  0.782197  0.782197  0.022\n",
      "\u001b[0mcore.pack.task: \u001b[0mPacker task: initialize from command line()\n",
      "\u001b[0mcore.pack.pack_rotamers: \u001b[0mbuilt 2221 rotamers at 92 positions.\n",
      "\u001b[0mcore.pack.interaction_graph.interaction_graph_factory: \u001b[0mInstantiating DensePDInteractionGraph\n",
      "\u001b[0mprotocols.relax.FastRelax: \u001b[0mCMD: repack  -372.109  0.782197  0.782197  0.022\n",
      "\u001b[0mprotocols.relax.FastRelax: \u001b[0mCMD: scale:fa_rep  -370.234  0.782197  0.782197  0.02805\n",
      "\u001b[0mprotocols.relax.FastRelax: \u001b[0mCMD: min  -439.203  1.04546  1.04546  0.02805\n",
      "\u001b[0mprotocols.relax.FastRelax: \u001b[0mCMD: coord_cst_weight  -439.203  1.04546  1.04546  0.02805\n",
      "\u001b[0mprotocols.relax.FastRelax: \u001b[0mCMD: scale:fa_rep  -277.074  1.04546  1.04546  0.14575\n",
      "\u001b[0mcore.pack.task: \u001b[0mPacker task: initialize from command line()\n",
      "\u001b[0mcore.pack.pack_rotamers: \u001b[0mbuilt 2341 rotamers at 92 positions.\n",
      "\u001b[0mcore.pack.interaction_graph.interaction_graph_factory: \u001b[0mInstantiating DensePDInteractionGraph\n",
      "\u001b[0mprotocols.relax.FastRelax: \u001b[0mCMD: repack  -289.756  1.04546  1.04546  0.14575\n",
      "\u001b[0mprotocols.relax.FastRelax: \u001b[0mCMD: scale:fa_rep  -279.863  1.04546  1.04546  0.154\n",
      "\u001b[0mprotocols.relax.FastRelax: \u001b[0mCMD: min  -369.18  0.862899  0.862899  0.154\n",
      "\u001b[0mprotocols.relax.FastRelax: \u001b[0mCMD: coord_cst_weight  -369.18  0.862899  0.862899  0.154\n",
      "\u001b[0mprotocols.relax.FastRelax: \u001b[0mCMD: scale:fa_rep  -319.963  0.862899  0.862899  0.30745\n",
      "\u001b[0mcore.pack.task: \u001b[0mPacker task: initialize from command line()\n",
      "\u001b[0mcore.pack.pack_rotamers: \u001b[0mbuilt 1985 rotamers at 92 positions.\n",
      "\u001b[0mcore.pack.interaction_graph.interaction_graph_factory: \u001b[0mInstantiating DensePDInteractionGraph\n",
      "\u001b[0mprotocols.relax.FastRelax: \u001b[0mCMD: repack  -321.179  0.862899  0.862899  0.30745\n",
      "\u001b[0mprotocols.relax.FastRelax: \u001b[0mCMD: scale:fa_rep  -317.401  0.862899  0.862899  0.31955\n",
      "\u001b[0mprotocols.relax.FastRelax: \u001b[0mCMD: min  -330.864  0.797886  0.797886  0.31955\n",
      "\u001b[0mprotocols.relax.FastRelax: \u001b[0mCMD: coord_cst_weight  -330.864  0.797886  0.797886  0.31955\n",
      "\u001b[0mprotocols.relax.FastRelax: \u001b[0mCMD: scale:fa_rep  -286.276  0.797886  0.797886  0.55\n",
      "\u001b[0mcore.pack.task: \u001b[0mPacker task: initialize from command line()\n",
      "\u001b[0mcore.pack.pack_rotamers: \u001b[0mbuilt 1965 rotamers at 92 positions.\n",
      "\u001b[0mcore.pack.interaction_graph.interaction_graph_factory: \u001b[0mInstantiating DensePDInteractionGraph\n",
      "\u001b[0mprotocols.relax.FastRelax: \u001b[0mCMD: repack  -286.467  0.797886  0.797886  0.55\n",
      "\u001b[0mprotocols.relax.FastRelax: \u001b[0mCMD: min  -304.546  0.77773  0.77773  0.55\n",
      "\u001b[0mprotocols.relax.FastRelax: \u001b[0mMRP: 2  -304.546  -304.546  0.77773  0.77773\n",
      "\u001b[0mprotocols.relax.FastRelax: \u001b[0mCMD: accept_to_best  -304.546  0.77773  0.77773  0.55\n",
      "\u001b[0mprotocols.relax.FastRelax: \u001b[0mCMD: endrepeat  -304.546  0.77773  0.77773  0.55\n",
      "\u001b[0mprotocols.relax.FastRelax: \u001b[0mCMD: coord_cst_weight  -304.546  0.77773  0.77773  0.55\n",
      "\u001b[0mprotocols.relax.FastRelax: \u001b[0mCMD: scale:fa_rep  -367.777  0.77773  0.77773  0.022\n",
      "\u001b[0mcore.pack.task: \u001b[0mPacker task: initialize from command line()\n",
      "\u001b[0mcore.pack.pack_rotamers: \u001b[0mbuilt 2216 rotamers at 92 positions.\n",
      "\u001b[0mcore.pack.interaction_graph.interaction_graph_factory: \u001b[0mInstantiating DensePDInteractionGraph\n",
      "\u001b[0mprotocols.relax.FastRelax: \u001b[0mCMD: repack  -372.551  0.77773  0.77773  0.022\n",
      "\u001b[0mprotocols.relax.FastRelax: \u001b[0mCMD: scale:fa_rep  -370.756  0.77773  0.77773  0.02805\n",
      "\u001b[0mprotocols.relax.FastRelax: \u001b[0mCMD: min  -441.547  1.06188  1.06188  0.02805\n",
      "\u001b[0mprotocols.relax.FastRelax: \u001b[0mCMD: coord_cst_weight  -441.547  1.06188  1.06188  0.02805\n",
      "\u001b[0mprotocols.relax.FastRelax: \u001b[0mCMD: scale:fa_rep  -280.845  1.06188  1.06188  0.14575\n",
      "\u001b[0mcore.pack.task: \u001b[0mPacker task: initialize from command line()\n",
      "\u001b[0mcore.pack.pack_rotamers: \u001b[0mbuilt 2307 rotamers at 92 positions.\n",
      "\u001b[0mcore.pack.interaction_graph.interaction_graph_factory: \u001b[0mInstantiating DensePDInteractionGraph\n",
      "\u001b[0mprotocols.relax.FastRelax: \u001b[0mCMD: repack  -291.265  1.06188  1.06188  0.14575\n",
      "\u001b[0mprotocols.relax.FastRelax: \u001b[0mCMD: scale:fa_rep  -281.304  1.06188  1.06188  0.154\n",
      "\u001b[0mprotocols.relax.FastRelax: \u001b[0mCMD: min  -367.913  0.871038  0.871038  0.154\n",
      "\u001b[0mprotocols.relax.FastRelax: \u001b[0mCMD: coord_cst_weight  -367.913  0.871038  0.871038  0.154\n",
      "\u001b[0mprotocols.relax.FastRelax: \u001b[0mCMD: scale:fa_rep  -318.238  0.871038  0.871038  0.30745\n",
      "\u001b[0mcore.pack.task: \u001b[0mPacker task: initialize from command line()\n",
      "\u001b[0mcore.pack.pack_rotamers: \u001b[0mbuilt 1917 rotamers at 92 positions.\n",
      "\u001b[0mcore.pack.interaction_graph.interaction_graph_factory: \u001b[0mInstantiating DensePDInteractionGraph\n",
      "\u001b[0mprotocols.relax.FastRelax: \u001b[0mCMD: repack  -318.599  0.871038  0.871038  0.30745\n",
      "\u001b[0mprotocols.relax.FastRelax: \u001b[0mCMD: scale:fa_rep  -314.745  0.871038  0.871038  0.31955\n",
      "\u001b[0mprotocols.relax.FastRelax: \u001b[0mCMD: min  -327.004  0.814399  0.814399  0.31955\n",
      "\u001b[0mprotocols.relax.FastRelax: \u001b[0mCMD: coord_cst_weight  -327.004  0.814399  0.814399  0.31955\n",
      "\u001b[0mprotocols.relax.FastRelax: \u001b[0mCMD: scale:fa_rep  -278.666  0.814399  0.814399  0.55\n",
      "\u001b[0mcore.pack.task: \u001b[0mPacker task: initialize from command line()\n",
      "\u001b[0mcore.pack.pack_rotamers: \u001b[0mbuilt 1900 rotamers at 92 positions.\n",
      "\u001b[0mcore.pack.interaction_graph.interaction_graph_factory: \u001b[0mInstantiating DensePDInteractionGraph\n",
      "\u001b[0mprotocols.relax.FastRelax: \u001b[0mCMD: repack  -278.901  0.814399  0.814399  0.55\n",
      "\u001b[0mprotocols.relax.FastRelax: \u001b[0mCMD: min  -304.867  0.781157  0.781157  0.55\n",
      "\u001b[0mprotocols.relax.FastRelax: \u001b[0mMRP: 3  -304.867  -304.867  0.781157  0.781157\n",
      "\u001b[0mprotocols.relax.FastRelax: \u001b[0mCMD: accept_to_best  -304.867  0.781157  0.781157  0.55\n",
      "\u001b[0mprotocols.relax.FastRelax: \u001b[0mCMD: endrepeat  -304.867  0.781157  0.781157  0.55\n",
      "\u001b[0mprotocols.relax.FastRelax: \u001b[0mCMD: coord_cst_weight  -304.867  0.781157  0.781157  0.55\n",
      "\u001b[0mprotocols.relax.FastRelax: \u001b[0mCMD: scale:fa_rep  -368.176  0.781157  0.781157  0.022\n",
      "\u001b[0mcore.pack.task: \u001b[0mPacker task: initialize from command line()\n",
      "\u001b[0mcore.pack.pack_rotamers: \u001b[0mbuilt 2199 rotamers at 92 positions.\n",
      "\u001b[0mcore.pack.interaction_graph.interaction_graph_factory: \u001b[0mInstantiating DensePDInteractionGraph\n",
      "\u001b[0mprotocols.relax.FastRelax: \u001b[0mCMD: repack  -373.551  0.781157  0.781157  0.022\n",
      "\u001b[0mprotocols.relax.FastRelax: \u001b[0mCMD: scale:fa_rep  -371.896  0.781157  0.781157  0.02805\n",
      "\u001b[0mprotocols.relax.FastRelax: \u001b[0mCMD: min  -441.777  1.0646  1.0646  0.02805\n",
      "\u001b[0mprotocols.relax.FastRelax: \u001b[0mCMD: coord_cst_weight  -441.777  1.0646  1.0646  0.02805\n",
      "\u001b[0mprotocols.relax.FastRelax: \u001b[0mCMD: scale:fa_rep  -282.299  1.0646  1.0646  0.14575\n",
      "\u001b[0mcore.pack.task: \u001b[0mPacker task: initialize from command line()\n",
      "\u001b[0mcore.pack.pack_rotamers: \u001b[0mbuilt 2227 rotamers at 92 positions.\n",
      "\u001b[0mcore.pack.interaction_graph.interaction_graph_factory: \u001b[0mInstantiating DensePDInteractionGraph\n",
      "\u001b[0mprotocols.relax.FastRelax: \u001b[0mCMD: repack  -292.753  1.0646  1.0646  0.14575\n",
      "\u001b[0mprotocols.relax.FastRelax: \u001b[0mCMD: scale:fa_rep  -282.871  1.0646  1.0646  0.154\n",
      "\u001b[0mprotocols.relax.FastRelax: \u001b[0mCMD: min  -369.011  0.875787  0.875787  0.154\n",
      "\u001b[0mprotocols.relax.FastRelax: \u001b[0mCMD: coord_cst_weight  -369.011  0.875787  0.875787  0.154\n",
      "\u001b[0mprotocols.relax.FastRelax: \u001b[0mCMD: scale:fa_rep  -317.87  0.875787  0.875787  0.30745\n",
      "\u001b[0mcore.pack.task: \u001b[0mPacker task: initialize from command line()\n",
      "\u001b[0mcore.pack.pack_rotamers: \u001b[0mbuilt 2016 rotamers at 92 positions.\n",
      "\u001b[0mcore.pack.interaction_graph.interaction_graph_factory: \u001b[0mInstantiating DensePDInteractionGraph\n",
      "\u001b[0mprotocols.relax.FastRelax: \u001b[0mCMD: repack  -319.048  0.875787  0.875787  0.30745\n",
      "\u001b[0mprotocols.relax.FastRelax: \u001b[0mCMD: scale:fa_rep  -315.128  0.875787  0.875787  0.31955\n",
      "\u001b[0mprotocols.relax.FastRelax: \u001b[0mCMD: min  -331.848  0.804193  0.804193  0.31955\n",
      "\u001b[0mprotocols.relax.FastRelax: \u001b[0mCMD: coord_cst_weight  -331.848  0.804193  0.804193  0.31955\n",
      "\u001b[0mprotocols.relax.FastRelax: \u001b[0mCMD: scale:fa_rep  -287.266  0.804193  0.804193  0.55\n",
      "\u001b[0mcore.pack.task: \u001b[0mPacker task: initialize from command line()\n",
      "\u001b[0mcore.pack.pack_rotamers: \u001b[0mbuilt 1986 rotamers at 92 positions.\n",
      "\u001b[0mcore.pack.interaction_graph.interaction_graph_factory: \u001b[0mInstantiating DensePDInteractionGraph\n",
      "\u001b[0mprotocols.relax.FastRelax: \u001b[0mCMD: repack  -287.28  0.804193  0.804193  0.55\n",
      "\u001b[0mprotocols.relax.FastRelax: \u001b[0mCMD: min  -304.964  0.780503  0.780503  0.55\n",
      "\u001b[0mprotocols.relax.FastRelax: \u001b[0mMRP: 4  -304.964  -304.964  0.780503  0.780503\n",
      "\u001b[0mprotocols.relax.FastRelax: \u001b[0mCMD: accept_to_best  -304.964  0.780503  0.780503  0.55\n",
      "\u001b[0mprotocols.relax.FastRelax: \u001b[0mCMD: endrepeat  -304.964  0.780503  0.780503  0.55\n",
      "\u001b[0mprotocols::checkpoint: \u001b[0mDeleting checkpoints of FastRelax\n"
     ]
    }
   ],
   "source": [
    "# make a copy of the pose\n",
    "pose_relax = pose.clone()\n",
    "pose_relax.pdb_info().name('1qys_relaxed')\n",
    "\n",
    "# create a Mover that can run Relax on our pose\n",
    "relax_mover = pyrosetta.rosetta.protocols.relax.FastRelax()\n",
    "relax_mover.set_scorefxn(scorefxn)                   # we use the default score function, which we initialized earlier\n",
    "relax_mover.constrain_relax_to_start_coords(True)    # we want to stay close to the starting coordinates, just refining a bit\n",
    "\n",
    "# run relax\n",
    "relax_mover.apply(pose_relax)"
   ]
  },
  {
   "cell_type": "code",
   "execution_count": 146,
   "metadata": {},
   "outputs": [],
   "source": [
    "pmm.apply(pose_relax)"
   ]
  },
  {
   "cell_type": "markdown",
   "metadata": {},
   "source": [
    "These two poses likely look very different, but that is in fact because the relaxed pose is translated and rotated in the PyMOL coordinate system. To really compare the two structures, run the following command in the PyMOL console `align 1qys.pdb, 1qys_relaxed`. This will align the original structure to the relaxed structure. The two structures should seem much more similar. PyMOL calculates the degree of difference between the two models after alignment, reported as a Root Mean Squared Deviation (RMSD). It should be about 0.7 or 0.8.\n",
    "\n",
    "We can also compute an RMSD metric in Rosetta - the function we will use only computes distances between matched alpha-carbons between the two structures:"
   ]
  },
  {
   "cell_type": "code",
   "execution_count": 148,
   "metadata": {},
   "outputs": [
    {
     "data": {
      "text/plain": [
       "0.78050297498703"
      ]
     },
     "execution_count": 148,
     "metadata": {},
     "output_type": "execute_result"
    }
   ],
   "source": [
    "pyrosetta.rosetta.core.scoring.CA_rmsd(pose, pose_relax) "
   ]
  },
  {
   "cell_type": "markdown",
   "metadata": {},
   "source": [
    "We can also see if the side chains have moved around. Type the following command into your PyMOL console: `show sticks, not (name c+n+o) and not hydro`. You should see that some of the residues have different rotamers for their side chains, such a Lys31 or Asp38.\n",
    "\n",
    "Finally, let's see if the `Relax` protocol did improve the score (energy) of the structure, as intended:"
   ]
  },
  {
   "cell_type": "code",
   "execution_count": 149,
   "metadata": {},
   "outputs": [
    {
     "name": "stdout",
     "output_type": "stream",
     "text": [
      "206.2147741464653\n",
      "-304.9643401505464\n",
      "-511.17911429701167\n"
     ]
    }
   ],
   "source": [
    "initial_score = scorefxn(pose)\n",
    "relaxed_score = scorefxn(pose_relax)\n",
    "\n",
    "print(initial_score)\n",
    "print(relaxed_score)\n",
    "print(relaxed_score - initial_score)"
   ]
  },
  {
   "cell_type": "markdown",
   "metadata": {},
   "source": [
    "Are you surprised by the large difference in score? Despite the overall change in structure being less than an Angstrom (using the RMSD metrics), there was a change of about ~500 REU! This was all from slight optimizations in protein backbone angles and side chain rotamer interactions. The score function is parameterized for 1 REU to be on the order of 0.1-1 kcal/mol, so this is a sizeable difference."
   ]
  },
  {
   "cell_type": "markdown",
   "metadata": {},
   "source": [
    "## Mutating a pose\n",
    "\n",
    "Protein design involves iteratively changing a protein sequence with new mutations and seeing if the resulting structure scores better in a desired metric (usually energy). Let's try this out by mutating a residue in the relaxed Top7 pose and seeing how this changes the overall energy. We will use a convenient function, `mutate_residue` to mutate a hydrophobic residue (Val 8) in the core of protein to a less favorable polar residue (Thr). We will need to get the pose number for residue 8 first."
   ]
  },
  {
   "cell_type": "code",
   "execution_count": 213,
   "metadata": {},
   "outputs": [
    {
     "name": "stdout",
     "output_type": "stream",
     "text": [
      "\u001b[0mcore.scoring.ScoreFunctionFactory: \u001b[0mSCOREFUNCTION: \u001b[32mref2015\u001b[0m\n",
      "\u001b[0mcore.pack.task: \u001b[0mPacker task: initialize from command line()\n",
      "\u001b[0mcore.pack.pack_rotamers: \u001b[0mbuilt 108 rotamers at 1 positions.\n",
      "\u001b[0mcore.pack.interaction_graph.interaction_graph_factory: \u001b[0mInstantiating PDInteractionGraph\n"
     ]
    }
   ],
   "source": [
    "pose_V8T = pose_relax.clone()\n",
    "pose_V8T.pdb_info().name('1qys_V8T')\n",
    "\n",
    "res8 = pose_V8T.pdb_info().pdb2pose(chain='A',res=8)\n",
    "pyrosetta.toolbox.mutate_residue(pack_or_pose=pose_V8T,\n",
    "                                 mutant_position=res8,\n",
    "                                 mutant_aa='T',\n",
    "                                 pack_radius=0)"
   ]
  },
  {
   "cell_type": "markdown",
   "metadata": {},
   "source": [
    "We can confirm that we mutated the residue correctly by querying the name of the residue at that position in both our original and mutated pose"
   ]
  },
  {
   "cell_type": "code",
   "execution_count": 206,
   "metadata": {},
   "outputs": [
    {
     "name": "stdout",
     "output_type": "stream",
     "text": [
      "VAL\n",
      "THR\n"
     ]
    }
   ],
   "source": [
    "# confirm we mutated correctly\n",
    "print(pose_relax.residue(res8).name())\n",
    "print(pose_V8T.residue(res8).name())"
   ]
  },
  {
   "cell_type": "markdown",
   "metadata": {},
   "source": [
    "Now let's score the two poses"
   ]
  },
  {
   "cell_type": "code",
   "execution_count": 207,
   "metadata": {},
   "outputs": [
    {
     "name": "stdout",
     "output_type": "stream",
     "text": [
      "4.795649293731344\n"
     ]
    }
   ],
   "source": [
    "mutated_score = scorefxn(pose_V8T)\n",
    "\n",
    "print(mutated_score - relaxed_score)"
   ]
  },
  {
   "cell_type": "markdown",
   "metadata": {},
   "source": [
    "We increased the score by ~5 REU, so Rosetta agrees with our intuition that the hydrophobic sidechain Val was preferred over Thr at that core position.\n",
    "\n",
    "We can look at the individual score terms to see which physical force accounts for this change in score"
   ]
  },
  {
   "cell_type": "code",
   "execution_count": 211,
   "metadata": {},
   "outputs": [
    {
     "name": "stdout",
     "output_type": "stream",
     "text": [
      "Val8 terms, relaxed structure:\n",
      "------------\n",
      "\u001b[0mcore.scoring.Energies: \u001b[0mE               fa_atr        fa_rep        fa_sol  fa_intra_repfa_intra_sol_x   lk_ball_wtd       fa_elec     pro_close   hbond_sr_bb   hbond_lr_bb   hbond_bb_sc      hbond_sc     dslf_fa13         omega        fa_dun       p_aa_pp yhh_planarity           ref   rama_prepro\n",
      "\u001b[0mcore.scoring.Energies: \u001b[0mE(i)   6         -6.97          1.36          1.16          3.17          0.05         -0.12         -1.63          0.00          0.00          0.00          0.00          0.00          0.00          0.29          0.01         -1.13          0.00          2.64         -0.12\n",
      "\n",
      "Thr8 terms, mutated structure:\n",
      "------------\n",
      "\u001b[0mcore.scoring.Energies: \u001b[0mE               fa_atr        fa_rep        fa_sol  fa_intra_repfa_intra_sol_x   lk_ball_wtd       fa_elec     pro_close   hbond_sr_bb   hbond_lr_bb   hbond_bb_sc      hbond_sc     dslf_fa13         omega        fa_dun       p_aa_pp yhh_planarity           ref   rama_prepro\n",
      "\u001b[0mcore.scoring.Energies: \u001b[0mE(i)   6         -6.08          0.87          3.16          1.67          0.06         -0.11         -1.75          0.00          0.00          0.00          0.00          0.00          0.00          0.24          0.04          0.07          0.00          1.15          0.47\n"
     ]
    }
   ],
   "source": [
    "print('Val8 terms, relaxed structure:\\n------------')\n",
    "pose_relax.energies().show(res8)\n",
    "print('\\nThr8 terms, mutated structure:\\n------------')\n",
    "pose_V8T.energies().show(res8)\n"
   ]
  },
  {
   "cell_type": "markdown",
   "metadata": {},
   "source": [
    "We see that there was an increase in the `fa_sol` term, which penalizes polar residues like Threonine being buried in the core:"
   ]
  },
  {
   "cell_type": "code",
   "execution_count": 210,
   "metadata": {},
   "outputs": [
    {
     "name": "stdout",
     "output_type": "stream",
     "text": [
      "2.0033733586316864\n"
     ]
    }
   ],
   "source": [
    "fa_sol = pyrosetta.rosetta.core.scoring.ScoreType.fa_sol\n",
    "\n",
    "V8_fa_sol = pose_relax.energies().residue_total_energies(res8)[fa_sol]\n",
    "T8_fa_sol = pose_V8T.energies().residue_total_energies(res8)[fa_sol]\n",
    "\n",
    "print(T8_fa_sol - V8_fa_sol)"
   ]
  },
  {
   "cell_type": "code",
   "execution_count": null,
   "metadata": {},
   "outputs": [],
   "source": [
    "# pose_from_sequence ??"
   ]
  }
 ],
 "metadata": {
  "kernelspec": {
   "display_name": "Python 3",
   "language": "python",
   "name": "python3"
  },
  "language_info": {
   "codemirror_mode": {
    "name": "ipython",
    "version": 3
   },
   "file_extension": ".py",
   "mimetype": "text/x-python",
   "name": "python",
   "nbconvert_exporter": "python",
   "pygments_lexer": "ipython3",
   "version": "3.8.4"
  }
 },
 "nbformat": 4,
 "nbformat_minor": 4
}
