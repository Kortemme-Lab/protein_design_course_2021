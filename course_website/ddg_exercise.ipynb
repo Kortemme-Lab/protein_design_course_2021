{
 "cells": [
  {
   "cell_type": "markdown",
   "metadata": {},
   "source": [
    "# ΔΔG Exercise\n",
    "\n",
    "A classical technique in protein biochemisty and protein engineering is to describe a mutant protein sequence in terms of a \"ΔΔG\": the change in free energy of a protein upon mutation. This formalism has been especially useful in many applications, such as identifying stabilizing mutations for industrial protein engineering applications, or identifying \"hot spot\" residues in protein-protein interaction interfaces that contribute most of the energy to binding.\n",
    "\n",
    "Computing changes of free energy is at the core of the design functionality in Rosetta, since we undergo a design simulation by choosing mutations (sampling) and seeing whether they improve the predicted energy of the structure (scoring). In this exercise, we will see how close we can get with predicting the ΔΔG of mutations in a well-studied monomeric protein, lysozyme. We will try to compute a ΔΔG in a couple of ways, and at each step compare the predictions with the experimentally measured ΔΔG.\n",
    "\n",
    "The files for this exercise are found at https://github.com/Kortemme-Lab/protein_design_course_files/ddg_exercise\n",
    "\n",
    "If you have already git installed this repository, please update it with\n",
    "\n",
    "```\n",
    "cd /path/to/protein_design_course_files\n",
    "git pull\n",
    "cd ddg_exercise\n",
    "```\n",
    "\n",
    "If you need to install the repository for the first time, run\n",
    "\n",
    "```\n",
    "git clone https://github.com/Kortemme-Lab/protein_design_course_files.git\n",
    "cd protein_design_course_files\n",
    "cd ddg_exercise\n",
    "```\n",
    "\n",
    "Remember to initialize your conda environment with:\n",
    "\n",
    "```\n",
    "conda activate proteindesign\n",
    "```\n",
    "\n",
    "For this exercise, you can open the jupyter notebook to run the code by typing `jupyter notebook`, or you can copy-paste each chunk into a python console, which you initiate by typing `python` or `ipython`."
   ]
  },
  {
   "cell_type": "markdown",
   "metadata": {},
   "source": [
    "As always, we start by initializing our PyRosetta session with an `init` call."
   ]
  },
  {
   "cell_type": "code",
   "execution_count": 1,
   "metadata": {
    "tags": [
     "remove_output"
    ]
   },
   "outputs": [
    {
     "name": "stdout",
     "output_type": "stream",
     "text": [
      "PyRosetta-4 2020 [Rosetta PyRosetta4.Release.python38.mac 2020.28+release.8ecab77aa50ac1301efe53641e07e09ac91fee3b 2020-07-07T16:41:06] retrieved from: http://www.pyrosetta.org\n",
      "(C) Copyright Rosetta Commons Member Institutions. Created in JHU by Sergey Lyskov and PyRosetta Team.\n",
      "\u001b[0mcore.init: \u001b[0mChecking for fconfig files in pwd and ./rosetta/flags\n",
      "\u001b[0mcore.init: \u001b[0mRosetta version: PyRosetta4.Release.python38.mac r260 2020.28+release.8ecab77aa50 8ecab77aa50ac1301efe53641e07e09ac91fee3b http://www.pyrosetta.org 2020-07-07T16:41:06\n",
      "\u001b[0mcore.init: \u001b[0mcommand: PyRosetta -ex1 -ex2 -score:weights ref2015_cart -use_input_sc -ignore_unrecognized_res -database /Users/cjmathy/.pyenv/versions/3.8.4/lib/python3.8/site-packages/pyrosetta-2020.28+release.8ecab77aa50-py3.8-macosx-10.15-x86_64.egg/pyrosetta/database\n",
      "\u001b[0mbasic.random.init_random_generator: \u001b[0m'RNG device' seed mode, using '/dev/urandom', seed=226263119 seed_offset=0 real_seed=226263119\n",
      "\u001b[0mbasic.random.init_random_generator: \u001b[0mRandomGenerator:init: Normal mode, seed=226263119 RG_type=mt19937\n",
      "\u001b[0mcore.scoring.etable: \u001b[0mStarting energy table calculation\n",
      "\u001b[0mcore.scoring.etable: \u001b[0msmooth_etable: changing atr/rep split to bottom of energy well\n",
      "\u001b[0mcore.scoring.etable: \u001b[0msmooth_etable: spline smoothing lj etables (maxdis = 6)\n",
      "\u001b[0mcore.scoring.etable: \u001b[0msmooth_etable: spline smoothing solvation etables (max_dis = 6)\n",
      "\u001b[0mcore.scoring.etable: \u001b[0mFinished calculating energy tables.\n",
      "\u001b[0mbasic.io.database: \u001b[0mDatabase file opened: scoring/score_functions/hbonds/ref2015_params/HBPoly1D.csv\n",
      "\u001b[0mbasic.io.database: \u001b[0mDatabase file opened: scoring/score_functions/hbonds/ref2015_params/HBFadeIntervals.csv\n",
      "\u001b[0mbasic.io.database: \u001b[0mDatabase file opened: scoring/score_functions/hbonds/ref2015_params/HBEval.csv\n",
      "\u001b[0mbasic.io.database: \u001b[0mDatabase file opened: scoring/score_functions/hbonds/ref2015_params/DonStrength.csv\n",
      "\u001b[0mbasic.io.database: \u001b[0mDatabase file opened: scoring/score_functions/hbonds/ref2015_params/AccStrength.csv\n",
      "\u001b[0mcore.chemical.GlobalResidueTypeSet: \u001b[0mFinished initializing fa_standard residue type set.  Created 981 residue types\n",
      "\u001b[0mcore.chemical.GlobalResidueTypeSet: \u001b[0mTotal time to initialize 0.906766 seconds.\n",
      "\u001b[0mbasic.io.database: \u001b[0mDatabase file opened: scoring/score_functions/rama/fd/all.ramaProb\n",
      "\u001b[0mbasic.io.database: \u001b[0mDatabase file opened: scoring/score_functions/rama/fd/prepro.ramaProb\n",
      "\u001b[0mbasic.io.database: \u001b[0mDatabase file opened: scoring/score_functions/omega/omega_ppdep.all.txt\n",
      "\u001b[0mbasic.io.database: \u001b[0mDatabase file opened: scoring/score_functions/omega/omega_ppdep.gly.txt\n",
      "\u001b[0mbasic.io.database: \u001b[0mDatabase file opened: scoring/score_functions/omega/omega_ppdep.pro.txt\n",
      "\u001b[0mbasic.io.database: \u001b[0mDatabase file opened: scoring/score_functions/omega/omega_ppdep.valile.txt\n",
      "\u001b[0mbasic.io.database: \u001b[0mDatabase file opened: scoring/score_functions/P_AA_pp/P_AA\n",
      "\u001b[0mbasic.io.database: \u001b[0mDatabase file opened: scoring/score_functions/P_AA_pp/P_AA_n\n",
      "\u001b[0mcore.scoring.P_AA: \u001b[0mshapovalov_lib::shap_p_aa_pp_smooth_level of 1( aka low_smooth ) got activated.\n",
      "\u001b[0mbasic.io.database: \u001b[0mDatabase file opened: scoring/score_functions/P_AA_pp/shapovalov/10deg/kappa131/a20.prop\n",
      "\u001b[0mcore.scoring.CartesianBondedEnergy: \u001b[0mInitializing IdealParametersDatabase with default Ks=300 , 80 , 80 , 10 , 80\n",
      "\u001b[0mbasic.io.database: \u001b[0mDatabase file opened: scoring/score_functions/bondlength_bondangle/default-lengths.txt\n",
      "\u001b[0mcore.scoring.CartesianBondedEnergy: \u001b[0mRead 759 bb-independent lengths.\n",
      "\u001b[0mbasic.io.database: \u001b[0mDatabase file opened: scoring/score_functions/bondlength_bondangle/default-angles.txt\n",
      "\u001b[0mcore.scoring.CartesianBondedEnergy: \u001b[0mRead 1434 bb-independent angles.\n",
      "\u001b[0mbasic.io.database: \u001b[0mDatabase file opened: scoring/score_functions/bondlength_bondangle/default-torsions.txt\n",
      "\u001b[0mcore.scoring.CartesianBondedEnergy: \u001b[0mRead 1 bb-independent torsions.\n",
      "\u001b[0mbasic.io.database: \u001b[0mDatabase file opened: scoring/score_functions/bondlength_bondangle/default-improper.txt\n",
      "\u001b[0mcore.scoring.CartesianBondedEnergy: \u001b[0mRead 2202 bb-independent improper tors.\n"
     ]
    }
   ],
   "source": [
    "import os\n",
    "import re\n",
    "import pandas as pd\n",
    "import numpy as np\n",
    "import scipy as sp\n",
    "import matplotlib.pyplot as plt\n",
    "import seaborn as sns\n",
    "\n",
    "import pyrosetta\n",
    "from pyrosetta import *\n",
    "pyrosetta.init('''\n",
    "               -ex1\n",
    "               -ex2\n",
    "               -score:weights ref2015_cart\n",
    "               -use_input_sc\n",
    "               -ignore_unrecognized_res           \n",
    "               ''')\n",
    "from pyrosetta.rosetta.core.pack.task import TaskFactory\n",
    "from pyrosetta.rosetta.core.pack.task import operation\n",
    "from pyrosetta.rosetta.core.select import residue_selector\n",
    "\n",
    "scorefxn = create_score_function('ref2015_cart')"
   ]
  },
  {
   "cell_type": "markdown",
   "metadata": {},
   "source": [
    "Let's also load in the experimentally measured ΔΔG's so we have them for comparison to our calculated ΔΔG's. We will use a dataset derived from the public ProTherm database (https://www.iitm.ac.in/bioinfo/ProTherm/). This dataset was curated to include high-quality measurements for use in benchmarking computational ΔΔG protocols (described at https://doi.org/10.1371/journal.pone.0130433).\n",
    "\n",
    "If you're curious about the types of studies that generate this data, here's a good example: https://pubmed.ncbi.nlm.nih.gov/1911773/."
   ]
  },
  {
   "cell_type": "code",
   "execution_count": 2,
   "metadata": {},
   "outputs": [
    {
     "data": {
      "text/html": [
       "<div>\n",
       "<style scoped>\n",
       "    .dataframe tbody tr th:only-of-type {\n",
       "        vertical-align: middle;\n",
       "    }\n",
       "\n",
       "    .dataframe tbody tr th {\n",
       "        vertical-align: top;\n",
       "    }\n",
       "\n",
       "    .dataframe thead th {\n",
       "        text-align: right;\n",
       "    }\n",
       "</style>\n",
       "<table border=\"1\" class=\"dataframe\">\n",
       "  <thead>\n",
       "    <tr style=\"text-align: right;\">\n",
       "      <th></th>\n",
       "      <th>pdb</th>\n",
       "      <th>mutation</th>\n",
       "      <th>chain</th>\n",
       "      <th>mutation_short</th>\n",
       "      <th>position</th>\n",
       "      <th>protherm_ID</th>\n",
       "      <th>ddg_expt</th>\n",
       "      <th>ddg_expt_individ</th>\n",
       "    </tr>\n",
       "  </thead>\n",
       "  <tbody>\n",
       "    <tr>\n",
       "      <th>1037</th>\n",
       "      <td>1L63</td>\n",
       "      <td>A L 99 A</td>\n",
       "      <td>A</td>\n",
       "      <td>L99A</td>\n",
       "      <td>99</td>\n",
       "      <td>814</td>\n",
       "      <td>4.533333</td>\n",
       "      <td>5.0_5.0_4.5_4.6_4.0_4.1</td>\n",
       "    </tr>\n",
       "    <tr>\n",
       "      <th>1038</th>\n",
       "      <td>1L63</td>\n",
       "      <td>A L 99 F</td>\n",
       "      <td>A</td>\n",
       "      <td>L99F</td>\n",
       "      <td>99</td>\n",
       "      <td>903</td>\n",
       "      <td>0.330000</td>\n",
       "      <td>0.36_0.3</td>\n",
       "    </tr>\n",
       "    <tr>\n",
       "      <th>1039</th>\n",
       "      <td>1L63</td>\n",
       "      <td>A L 99 G</td>\n",
       "      <td>A</td>\n",
       "      <td>L99G</td>\n",
       "      <td>99</td>\n",
       "      <td>866</td>\n",
       "      <td>6.850000</td>\n",
       "      <td>7.4_6.3</td>\n",
       "    </tr>\n",
       "    <tr>\n",
       "      <th>1040</th>\n",
       "      <td>1L63</td>\n",
       "      <td>A L 99 I</td>\n",
       "      <td>A</td>\n",
       "      <td>L99I</td>\n",
       "      <td>99</td>\n",
       "      <td>884</td>\n",
       "      <td>1.450000</td>\n",
       "      <td>1.4_1.5</td>\n",
       "    </tr>\n",
       "    <tr>\n",
       "      <th>1041</th>\n",
       "      <td>1L63</td>\n",
       "      <td>A L 99 M</td>\n",
       "      <td>A</td>\n",
       "      <td>L99M</td>\n",
       "      <td>99</td>\n",
       "      <td>914</td>\n",
       "      <td>0.583333</td>\n",
       "      <td>0.4_0.75_0.6</td>\n",
       "    </tr>\n",
       "    <tr>\n",
       "      <th>1042</th>\n",
       "      <td>1L63</td>\n",
       "      <td>A L 99 V</td>\n",
       "      <td>A</td>\n",
       "      <td>L99V</td>\n",
       "      <td>99</td>\n",
       "      <td>863</td>\n",
       "      <td>2.135000</td>\n",
       "      <td>2.27_2.0</td>\n",
       "    </tr>\n",
       "  </tbody>\n",
       "</table>\n",
       "</div>"
      ],
      "text/plain": [
       "       pdb  mutation chain mutation_short  position  protherm_ID  ddg_expt  \\\n",
       "1037  1L63  A L 99 A     A           L99A        99          814  4.533333   \n",
       "1038  1L63  A L 99 F     A           L99F        99          903  0.330000   \n",
       "1039  1L63  A L 99 G     A           L99G        99          866  6.850000   \n",
       "1040  1L63  A L 99 I     A           L99I        99          884  1.450000   \n",
       "1041  1L63  A L 99 M     A           L99M        99          914  0.583333   \n",
       "1042  1L63  A L 99 V     A           L99V        99          863  2.135000   \n",
       "\n",
       "             ddg_expt_individ  \n",
       "1037  5.0_5.0_4.5_4.6_4.0_4.1  \n",
       "1038                 0.36_0.3  \n",
       "1039                  7.4_6.3  \n",
       "1040                  1.4_1.5  \n",
       "1041             0.4_0.75_0.6  \n",
       "1042                 2.27_2.0  "
      ]
     },
     "execution_count": 2,
     "metadata": {},
     "output_type": "execute_result"
    }
   ],
   "source": [
    "# %%\n",
    "# function to convert 'A G 44 S' format (chain aa_from position aa_to) to G44S\n",
    "# for curated_protherm datasets\n",
    "def convert_mutation_format(s):\n",
    "    vec = re.split(r' |_', s)\n",
    "    if len(vec) == 4:\n",
    "        return ''.join(vec[1:])\n",
    "    if len(vec) == 8:\n",
    "        return ''.join(vec[1:4])+'/'+''.join(vec[5:8])\n",
    "\n",
    "# read only the lysozyme mutants (PDB 1L63) from the protherm dataset\n",
    "pt = (pd.read_csv('~/lab/gsp1_ddg/benchmarking/datasets/curatedprotherm.csv', header=19)\n",
    "      .loc[lambda df: df.PDBFileID == '1L63']\n",
    "      .loc[lambda df: df.DSSPSimpleTypes.apply(len) == 1]  # ignore records w/ >1 mutation\n",
    "      .assign(chain = lambda df: df.Mutations.apply(lambda row: row[0]),\n",
    "              mutation_short = lambda df: df.Mutations.apply(lambda row: convert_mutation_format(row)),\n",
    "              position = lambda df: df.mutation_short.apply(lambda i: int(i[1:-1])),\n",
    "              aa_to = lambda df: df.mutation_short.apply(lambda i: i[-1])\n",
    "              )\n",
    "      .rename(columns={'RecordID':'protherm_ID','PDBFileID':'pdb', 'Mutations':'mutation',\n",
    "                      'DDG':'ddg_expt', 'IndividualDDGs':'ddg_expt_individ'})\n",
    "      [['pdb','mutation','chain','mutation_short','position','protherm_ID','ddg_expt','ddg_expt_individ']]\n",
    ")\n",
    "\n",
    "pt[(pt.position == 99) & (pt.pdb == '1L63')]\n"
   ]
  },
  {
   "cell_type": "markdown",
   "metadata": {},
   "source": [
    "I've pre-relaxed the starting crystal structure for you to save some time. If you'd like to run Relax yourself, feel free to run the script in the directory with the command below. It should take about 10 minutes\n",
    "\n",
    "```\n",
    "python relax_1L63.py\n",
    "```\n",
    "\n",
    "Next, load in our PDBs"
   ]
  },
  {
   "cell_type": "code",
   "execution_count": 3,
   "metadata": {},
   "outputs": [
    {
     "name": "stdout",
     "output_type": "stream",
     "text": [
      "\u001b[0mcore.import_pose.import_pose: \u001b[0mFile '1l63_clean.pdb' automatically determined to be of type PDB\n",
      "\u001b[0mcore.conformation.Conformation: \u001b[0m\u001b[1m[ WARNING ]\u001b[0m missing heavyatom:  OXT on residue LYS:CtermProteinFull 162\n",
      "\u001b[0mcore.import_pose.import_pose: \u001b[0mFile '1l63_relaxed.pdb' automatically determined to be of type PDB\n"
     ]
    }
   ],
   "source": [
    "pose = pose_from_pdb('1l63_clean.pdb')\n",
    "pose.pdb_info().name('1l63_xtal')\n",
    "pose_relaxed = pose_from_pdb('1l63_relaxed.pdb')\n",
    "pose_relaxed.pdb_info().name('1l63_relaxed')"
   ]
  },
  {
   "cell_type": "code",
   "execution_count": 4,
   "metadata": {},
   "outputs": [],
   "source": [
    "pmm = PyMOLMover()\n",
    "pmm.apply(pose_relaxed)"
   ]
  },
  {
   "cell_type": "markdown",
   "metadata": {},
   "source": [
    "In PyMOL, copy and paste the following commands to show the core packing around Leu 99.\n",
    "\n",
    "`util.cbaw 1l63_relaxed`\n",
    "\n",
    "`select core, 1l63_relaxed and br. (sc.  within 3 of (resi 99 and sc.))`\n",
    "\n",
    "`util.cbac core`\n",
    "\n",
    "`util.cbas core and resi 99`\n",
    "\n",
    "`show spheres, core`\n",
    "\n",
    "`set_view (\\\n",
    "     0.749474406,   -0.659760594,   -0.054414708,\\\n",
    "    -0.335082650,   -0.448958933,    0.828328848,\\\n",
    "    -0.570924938,   -0.602581918,   -0.557566702,\\\n",
    "     0.000094488,    0.001106668,  -85.698837280,\\\n",
    "    30.798748016,    4.481562614,    6.916054726,\\\n",
    "    49.036270142,  122.386810303,  -20.000000000 )`\n",
    "\n",
    "`deselect`\n",
    "\n",
    "You should see Leu 99 in pink in the center of the frame, well packed in the core of the protein. \n",
    "\n",
    "Now run the following commands to show sidechains as sticks instead of as spheres:\n",
    "\n",
    "`hide spheres, core`\n",
    "\n",
    "`show sticks, core and not hydro`\n",
    "\n",
    "It should now be much easier to see how each of the sidechains in the residues shown are pointed inward to form the hydrophobic core of the protein. \n",
    "\n",
    "Next, we are going to compute the change in energy for when we mutating Leu 99 to a Phenylalanine, which has a large benzene ring as a sidechain. This mutant can be referred to as L99F."
   ]
  },
  {
   "cell_type": "code",
   "execution_count": 5,
   "metadata": {},
   "outputs": [
    {
     "name": "stdout",
     "output_type": "stream",
     "text": [
      "\u001b[0mcore.scoring.CartesianBondedEnergy: \u001b[0mCreating new peptide-bonded energy container (162)\n",
      "\u001b[0mbasic.io.database: \u001b[0mDatabase file opened: scoring/score_functions/elec_cp_reps.dat\n",
      "\u001b[0mcore.scoring.elec.util: \u001b[0mRead 40 countpair representative atoms\n",
      "\u001b[0mcore.pack.dunbrack.RotamerLibrary: \u001b[0mshapovalov_lib_fixes_enable option is true.\n",
      "\u001b[0mcore.pack.dunbrack.RotamerLibrary: \u001b[0mshapovalov_lib::shap_dun10_smooth_level of 1( aka lowest_smooth ) got activated.\n",
      "\u001b[0mcore.pack.dunbrack.RotamerLibrary: \u001b[0mBinary rotamer library selected: /Users/cjmathy/.pyenv/versions/3.8.4/lib/python3.8/site-packages/pyrosetta-2020.28+release.8ecab77aa50-py3.8-macosx-10.15-x86_64.egg/pyrosetta/database/rotamer/shapovalov/StpDwn_0-0-0/Dunbrack10.lib.bin\n",
      "\u001b[0mcore.pack.dunbrack.RotamerLibrary: \u001b[0mUsing Dunbrack library binary file '/Users/cjmathy/.pyenv/versions/3.8.4/lib/python3.8/site-packages/pyrosetta-2020.28+release.8ecab77aa50-py3.8-macosx-10.15-x86_64.egg/pyrosetta/database/rotamer/shapovalov/StpDwn_0-0-0/Dunbrack10.lib.bin'.\n",
      "\u001b[0mcore.pack.dunbrack.RotamerLibrary: \u001b[0mDunbrack 2010 library took 0.230011 seconds to load from binary\n",
      "\u001b[0mcore.scoring.CartesianBondedEnergy: \u001b[0mCreating new peptide-bonded energy container (162)\n",
      "\n",
      "WT score: -594.2379820591656\n",
      "\n",
      "L99F score: -231.520224208531\n"
     ]
    }
   ],
   "source": [
    "pose_L99F = pose_relaxed.clone()\n",
    "pose_L99F.pdb_info().name('L99F')\n",
    "\n",
    "mutate_mover = pyrosetta.rosetta.protocols.simple_moves.MutateResidue()\n",
    "mutate_mover.set_target(99)\n",
    "mutate_mover.set_res_name('PHE')\n",
    "mutate_mover.apply(pose_L99F)\n",
    "\n",
    "# score WT and L99F mutant\n",
    "WT_score = scorefxn(pose_relaxed)\n",
    "L99F_score = scorefxn(pose_L99F)\n",
    "\n",
    "print('\\nWT score: ' + str(WT_score))\n",
    "print('\\nL99F score: ' + str(L99F_score))"
   ]
  },
  {
   "cell_type": "markdown",
   "metadata": {},
   "source": [
    "The score has jumped quite a bit! If we quantify by how much it has changed, we get the ΔΔG. That is, The ΔΔG of a mutation is defined as the difference in free energy of protein before and after mutation, or $ΔΔG_{MUTATION} = ΔG_{MUT} - ΔG_{\\text{WT}}$\n",
    "\n",
    "Since the Rosetta score function is meant to approximate energies, we can use it to compute a predicted ΔΔG of L99F. Note that the score is given in REU energy units. For this specific score function and application, assume that 1 REU is about 3-4 kcal/mol, so we will divide our difference in scores by 4. We then compare our computed ΔΔG to the measured ΔΔG from the ProTherm database."
   ]
  },
  {
   "cell_type": "code",
   "execution_count": 6,
   "metadata": {},
   "outputs": [
    {
     "name": "stdout",
     "output_type": "stream",
     "text": [
      "Difference in score L99F - WT: 362.7177578506346\n",
      "Computed ΔΔG of L99F: 90.67943946265865\n",
      "Measured ΔΔG of L99F: 0.33\n"
     ]
    }
   ],
   "source": [
    "scaling_factor_for_ddG = 4\n",
    "ddG_L99F = L99F_score - WT_score\n",
    "print('Difference in score L99F - WT: ' + str(ddG_L99F))\n",
    "print('Computed ΔΔG of L99F: ' + str(ddG_L99F/scaling_factor_for_ddG))\n",
    "\n",
    "L99F_ddG_measured = pt[pt.mutation == 'A L 99 F'].ddg_expt.values[0]\n",
    "print('Measured ΔΔG of L99F: ' + str(L99F_ddG_measured))\n"
   ]
  },
  {
   "cell_type": "markdown",
   "metadata": {},
   "source": [
    "Unfortunately, we are off by two orders of magnitude. In fact, the experimental ΔΔG tells us that L99F is not a destabilizing mutation. First, let's examine why Rosetta thinks it should be destabilizing by looking at which energy terms changed."
   ]
  },
  {
   "cell_type": "code",
   "execution_count": 7,
   "metadata": {},
   "outputs": [
    {
     "data": {
      "text/plain": [
       "fa_atr                  -4.568252\n",
       "fa_rep                 667.622239\n",
       "fa_sol                  -0.383533\n",
       "fa_intra_rep            -0.220956\n",
       "fa_intra_sol_xover4      0.114745\n",
       "lk_ball_wtd             -0.169003\n",
       "fa_elec                 -0.639650\n",
       "hbond_sr_bb              0.000000\n",
       "hbond_lr_bb              0.000000\n",
       "hbond_bb_sc              0.000000\n",
       "hbond_sc                 0.000000\n",
       "dslf_fa13                0.000000\n",
       "omega                    0.000000\n",
       "fa_dun                   1.912687\n",
       "p_aa_pp                  0.404242\n",
       "yhh_planarity            0.000000\n",
       "ref                     -0.443180\n",
       "rama_prepro              0.197129\n",
       "cart_bonded             -0.389653\n",
       "total_score            362.577561\n",
       "dtype: float64"
      ]
     },
     "execution_count": 7,
     "metadata": {},
     "output_type": "execute_result"
    }
   ],
   "source": [
    "energy_table_WT = pyrosetta.bindings.energies.residue_total_energies_array(pose_relaxed.energies())\n",
    "energy_df_WT = pd.DataFrame(energy_table_WT)\n",
    "totals_by_term_WT = energy_df_WT.sum(axis=0)\n",
    "\n",
    "\n",
    "energy_table_L99F = pyrosetta.bindings.energies.residue_total_energies_array(pose_L99F.energies())\n",
    "energy_df_L99F = pd.DataFrame(energy_table_L99F)\n",
    "totals_by_term_L99F = energy_df_L99F.sum(axis=0)\n",
    "\n",
    "totals_by_term_L99F - totals_by_term_WT"
   ]
  },
  {
   "cell_type": "markdown",
   "metadata": {},
   "source": [
    "The energy term `fa_rep` showed a massive jump. This suggests that there are clashes in the structure, where atoms are too close to each other. This is what we expected, because we introduced a larger Phenylalanine side chain into the space previously occupied by the smaller Leucine, and the fit was already tight. We can visualize this in the structure. First send the mutated pose to PyMOL, then run the commands below it to visualize just the mutated pose.\n"
   ]
  },
  {
   "cell_type": "code",
   "execution_count": 8,
   "metadata": {},
   "outputs": [],
   "source": [
    "pmm.apply(pose_L99F)"
   ]
  },
  {
   "cell_type": "markdown",
   "metadata": {},
   "source": [
    "In PyMOL, copy and paste the following commands to visualize the clashes around the Phenylalanine introduced by the L99F mutation.\n",
    "\n",
    "`util.cbaw L99F`\n",
    "\n",
    "`select L99F_core, L99F and br. (sc.  within 3 of (resi 99 and sc.))`\n",
    "\n",
    "`util.cbac L99F_core`\n",
    "\n",
    "`util.cbas L99F_core and resi 99`\n",
    "\n",
    "`show sticks, L99F_core and not hydro`\n",
    "\n",
    "`show spheres, L99F and (resi 84 or resi 99) and not (name O or name N)`\n",
    "\n",
    "`set_view (\\\n",
    "     0.969336450,   -0.243796781,   -0.030075530,\\\n",
    "    -0.183128297,   -0.798800588,    0.573020101,\\\n",
    "    -0.163719043,   -0.549941719,   -0.818962932,\\\n",
    "     0.000094488,    0.001106668,  -68.288848877,\\\n",
    "    30.798748016,    4.481562614,    6.916054726,\\\n",
    "    31.626289368,  104.976821899,  -20.000000000 )`\n",
    "\n",
    "`deselect`\n",
    "\n",
    "The pink Phenylalanine at position 99 is shoved into the space filled by Leucine 84! This is not an even remotely likely arrangement of atoms in nature, and Rosetta accordingly scores it very badly. So what have we done wrong when mutating L99F?\n",
    "\n",
    "The small experimental ΔΔG tells us that the native state of the L99F mutant has a very similar (within 1 kcal/mol) energy to the wild type protein, which suggests that the sidechains that were densely packed around Leu 99 could in fact shift to accommodate a larger Phenylalanine. However, we did not instruct Rosetta to repack around the mutation. Repacking is the process of sampling different rotamers (side chain conformations) for the residues in contact with residue 99.\n",
    "\n",
    "Let's repack any residues within 10 Angstroms."
   ]
  },
  {
   "cell_type": "code",
   "execution_count": 9,
   "metadata": {},
   "outputs": [],
   "source": [
    "# Select mutant position\n",
    "mutant_position = residue_selector.ResidueIndexSelector()\n",
    "mutant_position.set_index(99)\n",
    "\n",
    "# Select neighbor positions\n",
    "nbr_selector = residue_selector.NeighborhoodResidueSelector() \n",
    "nbr_selector.set_focus_selector(mutant_position)\n",
    "nbr_selector.set_include_focus_in_subset(True)\n",
    "nbr_selector.set_distance(10) # note default is 10, so could leave this out\n",
    "\n",
    "# Make a task factory\n",
    "tf = TaskFactory()\n",
    "tf.push_back(operation.InitializeFromCommandline())\n",
    "tf.push_back(operation.IncludeCurrent())\n",
    "tf.push_back(operation.NoRepackDisulfides())\n",
    "\n",
    "# Disable packing for all residues, then re-enable it for neigbor residues\n",
    "prevent_repacking_rlt = operation.PreventRepackingRLT()\n",
    "define_repacking = operation.OperateOnResidueSubset(prevent_repacking_rlt, nbr_selector, True )\n",
    "tf.push_back(define_repacking)\n",
    "\n",
    "# Disable design for the whole protein, since we only want to repack\n",
    "not_design = residue_selector.TrueResidueSelector()\n",
    "tf.push_back(operation.OperateOnResidueSubset(operation.RestrictToRepackingRLT(),not_design))\n",
    "\n",
    "# Uncomment this command to see whether you set up the packer correctly\n",
    "# print(tf.create_task_and_apply_taskoperations(pose_L99F))  \n",
    "\n",
    "# # Create Packer\n",
    "packer = pyrosetta.rosetta.protocols.minimization_packing.PackRotamersMover()\n",
    "packer.task_factory(tf)"
   ]
  },
  {
   "cell_type": "code",
   "execution_count": 10,
   "metadata": {},
   "outputs": [
    {
     "name": "stdout",
     "output_type": "stream",
     "text": [
      "\u001b[0mprotocols.minimization_packing.PackRotamersMover: \u001b[0m\u001b[1m[ WARNING ]\u001b[0m undefined ScoreFunction -- creating a default one\n",
      "\u001b[0mcore.scoring.ScoreFunctionFactory: \u001b[0mSCOREFUNCTION: \u001b[32mref2015_cart\u001b[0m\n",
      "\u001b[0mcore.pack.task: \u001b[0mPacker task: initialize from command line()\n",
      "\u001b[0mcore.pack.pack_rotamers: \u001b[0mbuilt 777 rotamers at 26 positions.\n",
      "\u001b[0mcore.pack.interaction_graph.interaction_graph_factory: \u001b[0mInstantiating DensePDInteractionGraph\n"
     ]
    }
   ],
   "source": [
    "# Run repacking\n",
    "pose_L99F_repacked = pose_L99F.clone()\n",
    "pose_L99F_repacked.pdb_info().name('L99F_repacked')\n",
    "\n",
    "packer.apply(pose_L99F_repacked)"
   ]
  },
  {
   "cell_type": "code",
   "execution_count": 11,
   "metadata": {},
   "outputs": [
    {
     "name": "stdout",
     "output_type": "stream",
     "text": [
      "\n",
      "WT score: -594.2379820591656\n",
      "\n",
      "L99F mutated score: -231.520224208531\n",
      "\n",
      "L99F repacked score: -312.30548187189106\n",
      "\n",
      "\n",
      "Difference in score L99F (repacked) - WT: 281.9325001872745\n",
      "Computed ΔΔG of L99F: 70.48312504681863\n",
      "Measured ΔΔG of L99F: 0.33\n"
     ]
    }
   ],
   "source": [
    "L99F_repacked_score = scorefxn(pose_L99F_repacked)\n",
    "\n",
    "print('\\nWT score: ' + str(WT_score))\n",
    "print('\\nL99F mutated score: ' + str(L99F_score))\n",
    "print('\\nL99F repacked score: ' + str(L99F_repacked_score))\n",
    "\n",
    "ddG_L99F = L99F_repacked_score - WT_score\n",
    "print('\\n\\nDifference in score L99F (repacked) - WT: ' + str(ddG_L99F))\n",
    "print('Computed ΔΔG of L99F: ' + str(ddG_L99F/scaling_factor_for_ddG))\n",
    "print('Measured ΔΔG of L99F: ' + str(L99F_ddG_measured))"
   ]
  },
  {
   "cell_type": "markdown",
   "metadata": {},
   "source": [
    "This is much better! but still off two an orders of magnitude. If we examine the structure, we see that just repacking was not enough to resolve the clash"
   ]
  },
  {
   "cell_type": "code",
   "execution_count": 12,
   "metadata": {},
   "outputs": [],
   "source": [
    "pmm.apply(pose_L99F_repacked)"
   ]
  },
  {
   "cell_type": "markdown",
   "metadata": {},
   "source": [
    "`util.cbaw L99F_repacked`\n",
    "\n",
    "`select L99F_repacked_core, L99F_repacked and br. (sc.  within 3 of (resi 99 and sc.))`\n",
    "\n",
    "`util.cbac L99F_repacked_core`\n",
    "\n",
    "`util.cbas L99F_repacked_core and resi 99`\n",
    "\n",
    "`show sticks, L99F_repacked_core and not hydro`\n",
    "\n",
    "`# show spheres, L99F_repacked_core and (resi 84 or resi 99) and not (name O or name N)`\n",
    "\n",
    "`set_view (\\\n",
    "     0.737348735,   -0.664588213,   -0.120811388,\\\n",
    "    -0.212751448,   -0.398235619,    0.892252982,\\\n",
    "    -0.641090214,   -0.632204175,   -0.435039639,\\\n",
    "     0.000094488,    0.001106668,  -85.698837280,\\\n",
    "    30.798748016,    4.481562614,    6.916054726,\\\n",
    "    49.036270142,  122.386810303,  -20.000000000 )`\n",
    "\n",
    "`deselect`"
   ]
  },
  {
   "cell_type": "markdown",
   "metadata": {},
   "source": [
    "This suggests that the backbone as it currently is modeled is just not capable of incorporating the large phenyl group. We must therefore introduce changes to the backbone to see if we can create some space. We can do this by adding a minimization step to our repacking. At this point, we are just running a round of relax while restricting repacking to the vicinity around the mutation."
   ]
  },
  {
   "cell_type": "code",
   "execution_count": 13,
   "metadata": {
    "tags": [
     "output-scroll"
    ]
   },
   "outputs": [
    {
     "name": "stdout",
     "output_type": "stream",
     "text": [
      "\u001b[0mprotocols.relax.RelaxScriptManager: \u001b[0mReading relax scripts list from database.\n",
      "\u001b[0mcore.scoring.ScoreFunctionFactory: \u001b[0mSCOREFUNCTION: \u001b[32mref2015_cart\u001b[0m\n",
      "\u001b[0mprotocols.relax.RelaxScriptManager: \u001b[0mLooking for MonomerRelax2019.txt\n",
      "\u001b[0mprotocols.relax.RelaxScriptManager: \u001b[0m================== Reading script file: /Users/cjmathy/.pyenv/versions/3.8.4/lib/python3.8/site-packages/pyrosetta-2020.28+release.8ecab77aa50-py3.8-macosx-10.15-x86_64.egg/pyrosetta/database/sampling/relax_scripts/MonomerRelax2019.txt ==================\n",
      "\u001b[0mprotocols.relax.RelaxScriptManager: \u001b[0mrepeat %%nrepeats%%\n",
      "\u001b[0mprotocols.relax.RelaxScriptManager: \u001b[0mcoord_cst_weight 1.0\n",
      "\u001b[0mprotocols.relax.RelaxScriptManager: \u001b[0mscale:fa_rep 0.040\n",
      "\u001b[0mprotocols.relax.RelaxScriptManager: \u001b[0mrepack\n",
      "\u001b[0mprotocols.relax.RelaxScriptManager: \u001b[0mscale:fa_rep 0.051\n",
      "\u001b[0mprotocols.relax.RelaxScriptManager: \u001b[0mmin 0.01\n",
      "\u001b[0mprotocols.relax.RelaxScriptManager: \u001b[0mcoord_cst_weight 0.5\n",
      "\u001b[0mprotocols.relax.RelaxScriptManager: \u001b[0mscale:fa_rep 0.265\n",
      "\u001b[0mprotocols.relax.RelaxScriptManager: \u001b[0mrepack\n",
      "\u001b[0mprotocols.relax.RelaxScriptManager: \u001b[0mscale:fa_rep 0.280\n",
      "\u001b[0mprotocols.relax.RelaxScriptManager: \u001b[0mmin 0.01\n",
      "\u001b[0mprotocols.relax.RelaxScriptManager: \u001b[0mcoord_cst_weight 0.0\n",
      "\u001b[0mprotocols.relax.RelaxScriptManager: \u001b[0mscale:fa_rep 0.559\n",
      "\u001b[0mprotocols.relax.RelaxScriptManager: \u001b[0mrepack\n",
      "\u001b[0mprotocols.relax.RelaxScriptManager: \u001b[0mscale:fa_rep 0.581\n",
      "\u001b[0mprotocols.relax.RelaxScriptManager: \u001b[0mmin 0.01\n",
      "\u001b[0mprotocols.relax.RelaxScriptManager: \u001b[0mcoord_cst_weight 0.0\n",
      "\u001b[0mprotocols.relax.RelaxScriptManager: \u001b[0mscale:fa_rep 1\n",
      "\u001b[0mprotocols.relax.RelaxScriptManager: \u001b[0mrepack\n",
      "\u001b[0mprotocols.relax.RelaxScriptManager: \u001b[0mmin 0.00001\n",
      "\u001b[0mprotocols.relax.RelaxScriptManager: \u001b[0maccept_to_best\n",
      "\u001b[0mprotocols.relax.RelaxScriptManager: \u001b[0mendrepeat\n",
      "\u001b[0mprotocols.relax.FastRelax: \u001b[0mCMD: repeat  -231.52  0  0  0.55\n",
      "\u001b[0mprotocols.relax.FastRelax: \u001b[0mCMD: coord_cst_weight  -231.52  0  0  0.55\n",
      "\u001b[0mprotocols.relax.FastRelax: \u001b[0mCMD: scale:fa_rep  -689.823  0  0  0.022\n",
      "\u001b[0mcore.pack.task: \u001b[0mPacker task: initialize from command line()\n",
      "\u001b[0mcore.pack.pack_rotamers: \u001b[0mbuilt 1433 rotamers at 26 positions.\n",
      "\u001b[0mcore.pack.interaction_graph.interaction_graph_factory: \u001b[0mInstantiating DensePDInteractionGraph\n",
      "\u001b[0mprotocols.relax.FastRelax: \u001b[0mCMD: repack  -696.498  0  0  0.022\n",
      "\u001b[0mprotocols.relax.FastRelax: \u001b[0mCMD: scale:fa_rep  -692.071  0  0  0.02805\n",
      "\u001b[0mprotocols.relax.FastRelax: \u001b[0mCMD: min  -872.487  0.918798  0.918798  0.02805\n",
      "\u001b[0mprotocols.relax.FastRelax: \u001b[0mCMD: coord_cst_weight  -872.487  0.918798  0.918798  0.02805\n",
      "\u001b[0mprotocols.relax.FastRelax: \u001b[0mCMD: scale:fa_rep  -498.587  0.918798  0.918798  0.14575\n",
      "\u001b[0mcore.pack.task: \u001b[0mPacker task: initialize from command line()\n",
      "\u001b[0mcore.pack.pack_rotamers: \u001b[0mbuilt 1146 rotamers at 36 positions.\n",
      "\u001b[0mcore.pack.interaction_graph.interaction_graph_factory: \u001b[0mInstantiating DensePDInteractionGraph\n",
      "\u001b[0mprotocols.relax.FastRelax: \u001b[0mCMD: repack  -500.022  0.918798  0.918798  0.14575\n",
      "\u001b[0mprotocols.relax.FastRelax: \u001b[0mCMD: scale:fa_rep  -474.206  0.918798  0.918798  0.154\n",
      "\u001b[0mprotocols.relax.FastRelax: \u001b[0mCMD: min  -719.215  0.442488  0.442488  0.154\n",
      "\u001b[0mprotocols.relax.FastRelax: \u001b[0mCMD: coord_cst_weight  -719.215  0.442488  0.442488  0.154\n",
      "\u001b[0mprotocols.relax.FastRelax: \u001b[0mCMD: scale:fa_rep  -625.088  0.442488  0.442488  0.30745\n",
      "\u001b[0mcore.pack.task: \u001b[0mPacker task: initialize from command line()\n",
      "\u001b[0mcore.pack.pack_rotamers: \u001b[0mbuilt 1028 rotamers at 31 positions.\n",
      "\u001b[0mcore.pack.interaction_graph.interaction_graph_factory: \u001b[0mInstantiating DensePDInteractionGraph\n",
      "\u001b[0mprotocols.relax.FastRelax: \u001b[0mCMD: repack  -625.088  0.442488  0.442488  0.30745\n",
      "\u001b[0mprotocols.relax.FastRelax: \u001b[0mCMD: scale:fa_rep  -617.665  0.442488  0.442488  0.31955\n",
      "\u001b[0mprotocols.relax.FastRelax: \u001b[0mCMD: min  -647.823  0.285895  0.285895  0.31955\n",
      "\u001b[0mprotocols.relax.FastRelax: \u001b[0mCMD: coord_cst_weight  -647.823  0.285895  0.285895  0.31955\n",
      "\u001b[0mprotocols.relax.FastRelax: \u001b[0mCMD: scale:fa_rep  -573.818  0.285895  0.285895  0.55\n",
      "\u001b[0mcore.pack.task: \u001b[0mPacker task: initialize from command line()\n",
      "\u001b[0mcore.pack.pack_rotamers: \u001b[0mbuilt 899 rotamers at 29 positions.\n",
      "\u001b[0mcore.pack.interaction_graph.interaction_graph_factory: \u001b[0mInstantiating DensePDInteractionGraph\n",
      "\u001b[0mprotocols.relax.FastRelax: \u001b[0mCMD: repack  -573.818  0.285895  0.285895  0.55\n",
      "\u001b[0mprotocols.relax.FastRelax: \u001b[0mCMD: min  -590.075  0.246572  0.246572  0.55\n",
      "\u001b[0mprotocols.relax.FastRelax: \u001b[0mMRP: 0  -590.075  -590.075  0.246572  0.246572\n",
      "\u001b[0mprotocols.relax.FastRelax: \u001b[0mCMD: accept_to_best  -590.075  0.246572  0.246572  0.55\n",
      "\u001b[0mprotocols.relax.FastRelax: \u001b[0mCMD: endrepeat  -590.075  0.246572  0.246572  0.55\n",
      "\u001b[0mprotocols::checkpoint: \u001b[0mDeleting checkpoints of FastRelax\n"
     ]
    },
    {
     "data": {
      "text/plain": [
       "True"
      ]
     },
     "execution_count": 13,
     "metadata": {},
     "output_type": "execute_result"
    }
   ],
   "source": [
    "# Create movemap factory\n",
    "mmf = pyrosetta.rosetta.core.select.movemap.MoveMapFactory()\n",
    "mmf.all_bb(setting=True)\n",
    "mmf.all_bondangles(setting=True)\n",
    "mmf.all_bondlengths(setting=True)\n",
    "mmf.all_chi(setting=True)\n",
    "mmf.all_jumps(setting=True)\n",
    "mmf.set_cartesian(setting=True)\n",
    "\n",
    "# Make fastrelax protocol\n",
    "fr = pyrosetta.rosetta.protocols.relax.FastRelax(standard_repeats=1)\n",
    "fr.set_scorefxn(scorefxn)\n",
    "fr.set_task_factory(tf)\n",
    "fr.set_movemap_factory(mmf)\n",
    "fr.cartesian(True)\n",
    "fr.min_type(\"lbfgs_armijo_nonmonotone\")\n",
    "\n",
    "pose_L99F_relaxed = pose_L99F.clone()\n",
    "pose_L99F_relaxed.pdb_info().name('L99F_relaxed')\n",
    "\n",
    "fr.apply(pose_L99F_relaxed)\n",
    "\n",
    "pose_L99F_relaxed.dump_pdb('1l63_L99F_relaxed.pdb')"
   ]
  },
  {
   "cell_type": "code",
   "execution_count": 14,
   "metadata": {},
   "outputs": [
    {
     "name": "stdout",
     "output_type": "stream",
     "text": [
      "\n",
      "WT score: -594.2379820591656\n",
      "\n",
      "L99F mutated score: -231.520224208531\n",
      "\n",
      "L99F repacked score: -231.520224208531\n",
      "\n",
      "L99F relaxed score: -590.075165842423\n",
      "\n",
      "\n",
      "Difference in score L99F (relaxed) - WT: 4.162816216742613\n",
      "Computed ΔΔG of L99F: 1.0407040541856531\n",
      "Measured ΔΔG of L99F: 0.33\n"
     ]
    }
   ],
   "source": [
    "L99F_relaxed_score = scorefxn(pose_L99F_relaxed)\n",
    "print('\\nWT score: ' + str(WT_score))\n",
    "print('\\nL99F mutated score: ' + str(L99F_score))\n",
    "print('\\nL99F repacked score: ' + str(L99F_score))\n",
    "print('\\nL99F relaxed score: ' + str(L99F_relaxed_score))\n",
    "\n",
    "ddG_L99F = L99F_relaxed_score - WT_score\n",
    "print('\\n\\nDifference in score L99F (relaxed) - WT: ' + str(ddG_L99F))\n",
    "print('Computed ΔΔG of L99F: ' + str(ddG_L99F/scaling_factor_for_ddG))\n",
    "print('Measured ΔΔG of L99F: ' + str(L99F_ddG_measured))"
   ]
  },
  {
   "cell_type": "code",
   "execution_count": 15,
   "metadata": {},
   "outputs": [],
   "source": [
    "pmm.apply(pose_L99F_relaxed)"
   ]
  },
  {
   "cell_type": "markdown",
   "metadata": {},
   "source": [
    "This is much better! We may be able to get even closer to the \"true\" native state of L99F with additional and or longer rounds of relax, as the increased sampling of backbones may find one even better suited for the mutation. However, we were using a rough scaling factor anyway, so let's not worry about it. Let's look at our new structure.\n",
    "\n",
    "`util.cbaw L99F_relaxed`\n",
    "\n",
    "`select L99F_relaxed_core, L99F_relaxed and br. (sc.  within 3 of (resi 99 and sc.))`\n",
    "\n",
    "`util.cbac L99F_relaxed_core`\n",
    "\n",
    "`util.cbas L99F_relaxed_core and resi 99`\n",
    "\n",
    "`show sticks, L99F_relaxed_core and not hydro`\n",
    "\n",
    "`# show spheres, L99F_relaxed_core and (resi 84 or resi 99) and not (name O or name N)`\n",
    "\n",
    "`set_view (\\\n",
    "     0.737348735,   -0.664588213,   -0.120811388,\\\n",
    "    -0.212751448,   -0.398235619,    0.892252982,\\\n",
    "    -0.641090214,   -0.632204175,   -0.435039639,\\\n",
    "     0.000094488,    0.001106668,  -85.698837280,\\\n",
    "    30.798748016,    4.481562614,    6.916054726,\\\n",
    "    49.036270142,  122.386810303,  -20.000000000 )`\n",
    "\n",
    "`deselect`\n",
    "\n",
    "The backbone has shifted just a little bit, but it's enough to create some space between the new phenylalanine at position 99 and Leu 84.\n",
    "\n",
    "\n",
    "To avoid writing all of this code, Rosetta developers have wrapped it up in a single protocol, known as Cartesian-ddG (since we are performing the minimization in Cartesian space). Cartesian-ddG is the current state of the art protocol for computing ddGs in Rosetta! Running Cartesian-ddG is outside of the scope of this exercise, but to showcase its utility I've run Cartesian-ddG on the 6 lysozyme mutants at position 99. We see a very nice correlation between the experimentally measured values and our computational predictions! Note that these `ddg_calc` values are unscaled, hence the integer values are different."
   ]
  },
  {
   "cell_type": "code",
   "execution_count": 32,
   "metadata": {},
   "outputs": [
    {
     "data": {
      "text/plain": [
       "Text(0.5, 1.0, 'ddG_calc vs. ddG_expt for Lysozyme mutants at position 99')"
      ]
     },
     "execution_count": 32,
     "metadata": {},
     "output_type": "execute_result"
    },
    {
     "data": {
      "image/png": "[encoded data removed]",
      "text/plain": [
       "<Figure size 432x288 with 1 Axes>"
      ]
     },
     "metadata": {
      "needs_background": "light"
     },
     "output_type": "display_data"
    }
   ],
   "source": [
    "%matplotlib inline\n",
    "\n",
    "dataset = (pd.read_csv('cartesian_ddg_lysozyme.csv')\n",
    "           .assign(position=lambda df: df.mutation.apply(lambda row: int(row.split()[2])))\n",
    "          )\n",
    "           \n",
    "ax = sns.scatterplot(data=dataset, x='ddg_expt_protherm', y='ddg_calc')\n",
    "ax.set(xlabel='experimental ΔΔG (kcal/mol)', ylabel='predicted ΔΔG (REU)')\n",
    "plt.title('ddG_calc vs. ddG_expt for Lysozyme mutants at position 99')"
   ]
  },
  {
   "cell_type": "code",
   "execution_count": null,
   "metadata": {},
   "outputs": [],
   "source": []
  }
 ],
 "metadata": {
  "kernelspec": {
   "display_name": "Python 3",
   "language": "python",
   "name": "python3"
  },
  "language_info": {
   "codemirror_mode": {
    "name": "ipython",
    "version": 3
   },
   "file_extension": ".py",
   "mimetype": "text/x-python",
   "name": "python",
   "nbconvert_exporter": "python",
   "pygments_lexer": "ipython3",
   "version": "3.8.4"
  },
  "metadata": {
   "interpreter": {
    "hash": "3a8b7913d7a328e6e21408c15a7acdc4794d544c472a1ddf24ff6f6148c0256f"
   }
  }
 },
 "nbformat": 4,
 "nbformat_minor": 4
}
